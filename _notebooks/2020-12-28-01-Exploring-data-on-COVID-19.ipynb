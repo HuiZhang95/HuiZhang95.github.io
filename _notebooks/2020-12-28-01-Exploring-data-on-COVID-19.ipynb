{
 "cells": [
  {
   "cell_type": "markdown",
   "metadata": {},
   "source": [
    "# Exploring data on COVID-19\n",
    "\n",
    "> In this post, We will cover the basic syntax of julia language, and explore the data related on COVID-19. This is the summary of lecture \"Introduction to Computational Thinking with Julia, with applications to modeling the COVID-19 Pandemic\" from MIT.\n",
    "\n",
    "- toc: true \n",
    "- badges: true\n",
    "- comments: true\n",
    "- author: Chanseok Kang\n",
    "- categories: [Julia, MIT]\n",
    "- image: images/US_data.png"
   ]
  },
  {
   "cell_type": "markdown",
   "metadata": {},
   "source": [
    "## Why Julia?\n",
    "\n",
    "- Julia: Developed at MIT by Prof. Alan Edelman's group\n",
    "- Released in 2012.\n",
    "- Current release: 1.4\n",
    "\n",
    "- Free, open source software\n",
    "- developed by world-wide community on [Github](https://github.com/JuliaLang/julia)\n",
    "- Over 3000 registered packages in wide range of domains\n",
    "\n",
    "## Julia\n",
    "\n",
    "- Modern, powerful language\n",
    "- Interactive but high performance (fast) - previously mutually exclusive\n",
    "- Syntax: similar to Python / Matlab / R\n",
    "- But carefully designed for high-performance computational science & engineering applications\n",
    "- Design means that most of Julia is written in Julia itself\n",
    "- Hence much easier to examine and modify algorithms"
   ]
  },
  {
   "cell_type": "markdown",
   "metadata": {},
   "source": [
    "![us_data](image/US_data.png)"
   ]
  },
  {
   "cell_type": "code",
   "execution_count": 1,
   "metadata": {},
   "outputs": [
    {
     "data": {
      "text/plain": [
       "\"https://raw.githubusercontent.com/CSSEGISandData/COVID-19/master/csse_covid_19_data/csse_covid_19_time_series/time_series_covid19_confirmed_global.csv\""
      ]
     },
     "execution_count": 1,
     "metadata": {},
     "output_type": "execute_result"
    }
   ],
   "source": [
    "url = \"https://raw.githubusercontent.com/CSSEGISandData/COVID-19/master/csse_covid_19_data/csse_covid_19_time_series/time_series_covid19_confirmed_global.csv\""
   ]
  },
  {
   "cell_type": "code",
   "execution_count": 2,
   "metadata": {},
   "outputs": [
    {
     "data": {
      "text/plain": [
       "\"https://raw.githubusercontent.com/CSSEGISandData/COVID-19/master/csse_covid_19_data/csse_covid_19_time_series/time_series_covid19_confirmed_global.csv\""
      ]
     },
     "execution_count": 2,
     "metadata": {},
     "output_type": "execute_result"
    }
   ],
   "source": [
    "url"
   ]
  },
  {
   "cell_type": "code",
   "execution_count": 3,
   "metadata": {},
   "outputs": [
    {
     "data": {
      "text/plain": [
       "String"
      ]
     },
     "execution_count": 3,
     "metadata": {},
     "output_type": "execute_result"
    }
   ],
   "source": [
    "typeof(url)"
   ]
  },
  {
   "cell_type": "code",
   "execution_count": 4,
   "metadata": {},
   "outputs": [
    {
     "data": {
      "text/plain": [
       "* (generic function with 357 methods)"
      ]
     },
     "execution_count": 4,
     "metadata": {},
     "output_type": "execute_result"
    }
   ],
   "source": [
    "*"
   ]
  },
  {
   "cell_type": "code",
   "execution_count": 5,
   "metadata": {},
   "outputs": [
    {
     "data": {
      "text/plain": [
       "1 + 7im"
      ]
     },
     "execution_count": 5,
     "metadata": {},
     "output_type": "execute_result"
    }
   ],
   "source": [
    "(1 + 2im) * (3 + im)"
   ]
  },
  {
   "cell_type": "code",
   "execution_count": 6,
   "metadata": {},
   "outputs": [
    {
     "data": {
      "text/html": [
       "*(z::<b>Complex</b>, w::<b>Complex</b>) in Base at <a href=\"https://github.com/JuliaLang/julia/tree/381693d3dfc9b7072707f6d544f82f6637fc5e7c/base/complex.jl#L277\" target=\"_blank\">complex.jl:277</a>"
      ],
      "text/plain": [
       "*(z::Complex, w::Complex) in Base at complex.jl:277"
      ]
     },
     "execution_count": 6,
     "metadata": {},
     "output_type": "execute_result"
    }
   ],
   "source": [
    "@which (1+ 2im) * (3 + im)"
   ]
  },
  {
   "cell_type": "markdown",
   "metadata": {},
   "source": [
    "## Grab the data"
   ]
  },
  {
   "cell_type": "code",
   "execution_count": 7,
   "metadata": {},
   "outputs": [
    {
     "data": {
      "text/plain": [
       "\"covid_data.csv\""
      ]
     },
     "execution_count": 7,
     "metadata": {},
     "output_type": "execute_result"
    }
   ],
   "source": [
    "download(url, \"covid_data.csv\")"
   ]
  },
  {
   "cell_type": "code",
   "execution_count": 8,
   "metadata": {},
   "outputs": [
    {
     "data": {
      "text/plain": [
       "readdir (generic function with 2 methods)"
      ]
     },
     "execution_count": 8,
     "metadata": {},
     "output_type": "execute_result"
    }
   ],
   "source": [
    "readdir"
   ]
  },
  {
   "cell_type": "code",
   "execution_count": 9,
   "metadata": {},
   "outputs": [
    {
     "data": {
      "text/plain": [
       "234-element Array{String,1}:\n",
       " \".ipynb_checkpoints\"\n",
       " \"2020-05-21-Software-Engineering-Practices-Pt-1.ipynb\"\n",
       " \"2020-05-22-01-Decorator.ipynb\"\n",
       " \"2020-05-22-02-More-On-Decorators.ipynb\"\n",
       " \"2020-05-23-01-Read-clean-and-validate.ipynb\"\n",
       " \"2020-05-23-02-Distributions.ipynb\"\n",
       " \"2020-05-24-01-Relationships.ipynb\"\n",
       " \"2020-05-24-02-Multivariate-Thinking.ipynb\"\n",
       " \"2020-05-25-01-Preparing-the-data-for-analysis.ipynb\"\n",
       " \"2020-05-25-02-Exploring-the-relationship-between-gender-and-policing.ipynb\"\n",
       " \"2020-05-25-03-Visual-exploratory-data-analysis.ipynb\"\n",
       " \"2020-05-25-04-Software-Engineering-Practices-Pt-2.ipynb\"\n",
       " \"2020-05-26-01-Analyzing-the-effect-of-weather-on-policing.ipynb\"\n",
       " ⋮\n",
       " \"2020-12-28-01-Exploring-data-on-COVID-19.ipynb\"\n",
       " \"README.md\"\n",
       " \"checkpoints\"\n",
       " \"covid_data.csv\"\n",
       " \"dataset\"\n",
       " \"html\"\n",
       " \"image\"\n",
       " \"models\"\n",
       " \"my_icons\"\n",
       " \"spark-warehouse\"\n",
       " \"utils\"\n",
       " \"video\""
      ]
     },
     "execution_count": 9,
     "metadata": {},
     "output_type": "execute_result"
    }
   ],
   "source": [
    "readdir()"
   ]
  },
  {
   "cell_type": "markdown",
   "metadata": {},
   "source": [
    "## Install Package"
   ]
  },
  {
   "cell_type": "code",
   "execution_count": 10,
   "metadata": {},
   "outputs": [
    {
     "name": "stderr",
     "output_type": "stream",
     "text": [
      "\u001b[32m\u001b[1m   Updating\u001b[22m\u001b[39m registry at `C:\\Users\\kcsgo\\.julia\\registries\\General`\n"
     ]
    },
    {
     "name": "stdout",
     "output_type": "stream",
     "text": [
      "\u001b[?25l"
     ]
    },
    {
     "name": "stderr",
     "output_type": "stream",
     "text": [
      "\u001b[32m\u001b[1m   Updating\u001b[22m\u001b[39m git-repo `https://github.com/JuliaRegistries/General.git`\n"
     ]
    },
    {
     "name": "stdout",
     "output_type": "stream",
     "text": [
      "\u001b[2K\u001b[?25h[1mFetching:\u001b[22m\u001b[39m [========================================>]  100.0 %"
     ]
    },
    {
     "name": "stderr",
     "output_type": "stream",
     "text": [
      "\u001b[32m\u001b[1m  Resolving\u001b[22m\u001b[39m package versions...\n",
      "\u001b[32m\u001b[1m   Updating\u001b[22m\u001b[39m `C:\\Users\\kcsgo\\.julia\\environments\\v1.4\\Project.toml`\n",
      "\u001b[90m [no changes]\u001b[39m\n",
      "\u001b[32m\u001b[1m   Updating\u001b[22m\u001b[39m `C:\\Users\\kcsgo\\.julia\\environments\\v1.4\\Manifest.toml`\n",
      "\u001b[90m [no changes]\u001b[39m\n"
     ]
    }
   ],
   "source": [
    "using Pkg   # built-in package manager in Julia: Pkg\n",
    "Pkg.add(\"CSV\")   # calls the `add` function from the module Pkg.  This installs a package"
   ]
  },
  {
   "cell_type": "code",
   "execution_count": 11,
   "metadata": {},
   "outputs": [
    {
     "name": "stderr",
     "output_type": "stream",
     "text": [
      "\u001b[32m\u001b[1m  Resolving\u001b[22m\u001b[39m package versions...\n",
      "\u001b[32m\u001b[1m   Updating\u001b[22m\u001b[39m `C:\\Users\\kcsgo\\.julia\\environments\\v1.4\\Project.toml`\n",
      "\u001b[90m [no changes]\u001b[39m\n",
      "\u001b[32m\u001b[1m   Updating\u001b[22m\u001b[39m `C:\\Users\\kcsgo\\.julia\\environments\\v1.4\\Manifest.toml`\n",
      "\u001b[90m [no changes]\u001b[39m\n"
     ]
    }
   ],
   "source": [
    "Pkg.add(\"DataFrames\")"
   ]
  },
  {
   "cell_type": "markdown",
   "metadata": {},
   "source": [
    "## Load a package\n",
    "\n",
    "Load a package every time we run a Julia session:"
   ]
  },
  {
   "cell_type": "code",
   "execution_count": 12,
   "metadata": {},
   "outputs": [],
   "source": [
    "using CSV, DataFrames"
   ]
  },
  {
   "cell_type": "code",
   "execution_count": 13,
   "metadata": {},
   "outputs": [
    {
     "data": {
      "text/html": [
       "<table class=\"data-frame\"><thead><tr><th></th><th>Province/State</th><th>Country/Region</th><th>Lat</th><th>Long</th><th>1/22/20</th></tr><tr><th></th><th>String?</th><th>String</th><th>Float64?</th><th>Float64?</th><th>Int64</th></tr></thead><tbody><p>271 rows × 346 columns (omitted printing of 341 columns)</p><tr><th>1</th><td><em>missing</em></td><td>Afghanistan</td><td>33.9391</td><td>67.71</td><td>0</td></tr><tr><th>2</th><td><em>missing</em></td><td>Albania</td><td>41.1533</td><td>20.1683</td><td>0</td></tr><tr><th>3</th><td><em>missing</em></td><td>Algeria</td><td>28.0339</td><td>1.6596</td><td>0</td></tr><tr><th>4</th><td><em>missing</em></td><td>Andorra</td><td>42.5063</td><td>1.5218</td><td>0</td></tr><tr><th>5</th><td><em>missing</em></td><td>Angola</td><td>-11.2027</td><td>17.8739</td><td>0</td></tr><tr><th>6</th><td><em>missing</em></td><td>Antigua and Barbuda</td><td>17.0608</td><td>-61.7964</td><td>0</td></tr><tr><th>7</th><td><em>missing</em></td><td>Argentina</td><td>-38.4161</td><td>-63.6167</td><td>0</td></tr><tr><th>8</th><td><em>missing</em></td><td>Armenia</td><td>40.0691</td><td>45.0382</td><td>0</td></tr><tr><th>9</th><td>Australian Capital Territory</td><td>Australia</td><td>-35.4735</td><td>149.012</td><td>0</td></tr><tr><th>10</th><td>New South Wales</td><td>Australia</td><td>-33.8688</td><td>151.209</td><td>0</td></tr><tr><th>11</th><td>Northern Territory</td><td>Australia</td><td>-12.4634</td><td>130.846</td><td>0</td></tr><tr><th>12</th><td>Queensland</td><td>Australia</td><td>-27.4698</td><td>153.025</td><td>0</td></tr><tr><th>13</th><td>South Australia</td><td>Australia</td><td>-34.9285</td><td>138.601</td><td>0</td></tr><tr><th>14</th><td>Tasmania</td><td>Australia</td><td>-42.8821</td><td>147.327</td><td>0</td></tr><tr><th>15</th><td>Victoria</td><td>Australia</td><td>-37.8136</td><td>144.963</td><td>0</td></tr><tr><th>16</th><td>Western Australia</td><td>Australia</td><td>-31.9505</td><td>115.861</td><td>0</td></tr><tr><th>17</th><td><em>missing</em></td><td>Austria</td><td>47.5162</td><td>14.5501</td><td>0</td></tr><tr><th>18</th><td><em>missing</em></td><td>Azerbaijan</td><td>40.1431</td><td>47.5769</td><td>0</td></tr><tr><th>19</th><td><em>missing</em></td><td>Bahamas</td><td>25.0259</td><td>-78.0359</td><td>0</td></tr><tr><th>20</th><td><em>missing</em></td><td>Bahrain</td><td>26.0275</td><td>50.55</td><td>0</td></tr><tr><th>21</th><td><em>missing</em></td><td>Bangladesh</td><td>23.685</td><td>90.3563</td><td>0</td></tr><tr><th>22</th><td><em>missing</em></td><td>Barbados</td><td>13.1939</td><td>-59.5432</td><td>0</td></tr><tr><th>23</th><td><em>missing</em></td><td>Belarus</td><td>53.7098</td><td>27.9534</td><td>0</td></tr><tr><th>24</th><td><em>missing</em></td><td>Belgium</td><td>50.8333</td><td>4.46994</td><td>0</td></tr><tr><th>25</th><td><em>missing</em></td><td>Belize</td><td>17.1899</td><td>-88.4976</td><td>0</td></tr><tr><th>26</th><td><em>missing</em></td><td>Benin</td><td>9.3077</td><td>2.3158</td><td>0</td></tr><tr><th>27</th><td><em>missing</em></td><td>Bhutan</td><td>27.5142</td><td>90.4336</td><td>0</td></tr><tr><th>28</th><td><em>missing</em></td><td>Bolivia</td><td>-16.2902</td><td>-63.5887</td><td>0</td></tr><tr><th>29</th><td><em>missing</em></td><td>Bosnia and Herzegovina</td><td>43.9159</td><td>17.6791</td><td>0</td></tr><tr><th>30</th><td><em>missing</em></td><td>Botswana</td><td>-22.3285</td><td>24.6849</td><td>0</td></tr><tr><th>&vellip;</th><td>&vellip;</td><td>&vellip;</td><td>&vellip;</td><td>&vellip;</td><td>&vellip;</td></tr></tbody></table>"
      ],
      "text/latex": [
       "\\begin{tabular}{r|cccccc}\n",
       "\t& Province/State & Country/Region & Lat & Long & 1/22/20 & \\\\\n",
       "\t\\hline\n",
       "\t& String? & String & Float64? & Float64? & Int64 & \\\\\n",
       "\t\\hline\n",
       "\t1 & \\emph{missing} & Afghanistan & 33.9391 & 67.71 & 0 & $\\dots$ \\\\\n",
       "\t2 & \\emph{missing} & Albania & 41.1533 & 20.1683 & 0 & $\\dots$ \\\\\n",
       "\t3 & \\emph{missing} & Algeria & 28.0339 & 1.6596 & 0 & $\\dots$ \\\\\n",
       "\t4 & \\emph{missing} & Andorra & 42.5063 & 1.5218 & 0 & $\\dots$ \\\\\n",
       "\t5 & \\emph{missing} & Angola & -11.2027 & 17.8739 & 0 & $\\dots$ \\\\\n",
       "\t6 & \\emph{missing} & Antigua and Barbuda & 17.0608 & -61.7964 & 0 & $\\dots$ \\\\\n",
       "\t7 & \\emph{missing} & Argentina & -38.4161 & -63.6167 & 0 & $\\dots$ \\\\\n",
       "\t8 & \\emph{missing} & Armenia & 40.0691 & 45.0382 & 0 & $\\dots$ \\\\\n",
       "\t9 & Australian Capital Territory & Australia & -35.4735 & 149.012 & 0 & $\\dots$ \\\\\n",
       "\t10 & New South Wales & Australia & -33.8688 & 151.209 & 0 & $\\dots$ \\\\\n",
       "\t11 & Northern Territory & Australia & -12.4634 & 130.846 & 0 & $\\dots$ \\\\\n",
       "\t12 & Queensland & Australia & -27.4698 & 153.025 & 0 & $\\dots$ \\\\\n",
       "\t13 & South Australia & Australia & -34.9285 & 138.601 & 0 & $\\dots$ \\\\\n",
       "\t14 & Tasmania & Australia & -42.8821 & 147.327 & 0 & $\\dots$ \\\\\n",
       "\t15 & Victoria & Australia & -37.8136 & 144.963 & 0 & $\\dots$ \\\\\n",
       "\t16 & Western Australia & Australia & -31.9505 & 115.861 & 0 & $\\dots$ \\\\\n",
       "\t17 & \\emph{missing} & Austria & 47.5162 & 14.5501 & 0 & $\\dots$ \\\\\n",
       "\t18 & \\emph{missing} & Azerbaijan & 40.1431 & 47.5769 & 0 & $\\dots$ \\\\\n",
       "\t19 & \\emph{missing} & Bahamas & 25.0259 & -78.0359 & 0 & $\\dots$ \\\\\n",
       "\t20 & \\emph{missing} & Bahrain & 26.0275 & 50.55 & 0 & $\\dots$ \\\\\n",
       "\t21 & \\emph{missing} & Bangladesh & 23.685 & 90.3563 & 0 & $\\dots$ \\\\\n",
       "\t22 & \\emph{missing} & Barbados & 13.1939 & -59.5432 & 0 & $\\dots$ \\\\\n",
       "\t23 & \\emph{missing} & Belarus & 53.7098 & 27.9534 & 0 & $\\dots$ \\\\\n",
       "\t24 & \\emph{missing} & Belgium & 50.8333 & 4.46994 & 0 & $\\dots$ \\\\\n",
       "\t25 & \\emph{missing} & Belize & 17.1899 & -88.4976 & 0 & $\\dots$ \\\\\n",
       "\t26 & \\emph{missing} & Benin & 9.3077 & 2.3158 & 0 & $\\dots$ \\\\\n",
       "\t27 & \\emph{missing} & Bhutan & 27.5142 & 90.4336 & 0 & $\\dots$ \\\\\n",
       "\t28 & \\emph{missing} & Bolivia & -16.2902 & -63.5887 & 0 & $\\dots$ \\\\\n",
       "\t29 & \\emph{missing} & Bosnia and Herzegovina & 43.9159 & 17.6791 & 0 & $\\dots$ \\\\\n",
       "\t30 & \\emph{missing} & Botswana & -22.3285 & 24.6849 & 0 & $\\dots$ \\\\\n",
       "\t$\\dots$ & $\\dots$ & $\\dots$ & $\\dots$ & $\\dots$ & $\\dots$ &  \\\\\n",
       "\\end{tabular}\n"
      ],
      "text/plain": [
       "\u001b[1m271×346 DataFrame\u001b[0m\n",
       "\u001b[1m Row \u001b[0m│\u001b[1m Province/State               \u001b[0m\u001b[1m Country/Region      \u001b[0m\u001b[1m Lat      \u001b[0m\u001b[1m Long     \u001b[0m\u001b[1m \u001b[0m ⋯\n",
       "\u001b[1m     \u001b[0m│\u001b[90m String?                      \u001b[0m\u001b[90m String              \u001b[0m\u001b[90m Float64? \u001b[0m\u001b[90m Float64? \u001b[0m\u001b[90m \u001b[0m ⋯\n",
       "─────┼──────────────────────────────────────────────────────────────────────────\n",
       "   1 │\u001b[90m missing                      \u001b[0m Afghanistan           33.9391   67.71     ⋯\n",
       "   2 │\u001b[90m missing                      \u001b[0m Albania               41.1533   20.1683\n",
       "   3 │\u001b[90m missing                      \u001b[0m Algeria               28.0339    1.6596\n",
       "   4 │\u001b[90m missing                      \u001b[0m Andorra               42.5063    1.5218\n",
       "   5 │\u001b[90m missing                      \u001b[0m Angola               -11.2027   17.8739   ⋯\n",
       "   6 │\u001b[90m missing                      \u001b[0m Antigua and Barbuda   17.0608  -61.7964\n",
       "   7 │\u001b[90m missing                      \u001b[0m Argentina            -38.4161  -63.6167\n",
       "   8 │\u001b[90m missing                      \u001b[0m Armenia               40.0691   45.0382\n",
       "   9 │ Australian Capital Territory  Australia            -35.4735  149.012    ⋯\n",
       "  10 │ New South Wales               Australia            -33.8688  151.209\n",
       "  11 │ Northern Territory            Australia            -12.4634  130.846\n",
       "  ⋮  │              ⋮                         ⋮              ⋮         ⋮       ⋱\n",
       " 262 │\u001b[90m missing                      \u001b[0m United Kingdom        55.3781   -3.436\n",
       " 263 │\u001b[90m missing                      \u001b[0m Uruguay              -32.5228  -55.7658   ⋯\n",
       " 264 │\u001b[90m missing                      \u001b[0m Uzbekistan            41.3775   64.5853\n",
       " 265 │\u001b[90m missing                      \u001b[0m Vanuatu              -15.3767  166.959\n",
       " 266 │\u001b[90m missing                      \u001b[0m Venezuela              6.4238  -66.5897\n",
       " 267 │\u001b[90m missing                      \u001b[0m Vietnam               14.0583  108.277    ⋯\n",
       " 268 │\u001b[90m missing                      \u001b[0m West Bank and Gaza    31.9522   35.2332\n",
       " 269 │\u001b[90m missing                      \u001b[0m Yemen                 15.5527   48.5164\n",
       " 270 │\u001b[90m missing                      \u001b[0m Zambia               -13.1339   27.8493\n",
       " 271 │\u001b[90m missing                      \u001b[0m Zimbabwe             -19.0154   29.1549   ⋯\n",
       "\u001b[31m                                                342 columns and 250 rows omitted\u001b[0m"
      ]
     },
     "execution_count": 13,
     "metadata": {},
     "output_type": "execute_result"
    }
   ],
   "source": [
    "CSV.read(\"./covid_data.csv\", DataFrame)"
   ]
  },
  {
   "cell_type": "code",
   "execution_count": 14,
   "metadata": {},
   "outputs": [
    {
     "data": {
      "text/html": [
       "<table class=\"data-frame\"><thead><tr><th></th><th>Province/State</th><th>Country/Region</th><th>Lat</th><th>Long</th><th>1/22/20</th></tr><tr><th></th><th>String?</th><th>String</th><th>Float64?</th><th>Float64?</th><th>Int64</th></tr></thead><tbody><p>271 rows × 346 columns (omitted printing of 341 columns)</p><tr><th>1</th><td><em>missing</em></td><td>Afghanistan</td><td>33.9391</td><td>67.71</td><td>0</td></tr><tr><th>2</th><td><em>missing</em></td><td>Albania</td><td>41.1533</td><td>20.1683</td><td>0</td></tr><tr><th>3</th><td><em>missing</em></td><td>Algeria</td><td>28.0339</td><td>1.6596</td><td>0</td></tr><tr><th>4</th><td><em>missing</em></td><td>Andorra</td><td>42.5063</td><td>1.5218</td><td>0</td></tr><tr><th>5</th><td><em>missing</em></td><td>Angola</td><td>-11.2027</td><td>17.8739</td><td>0</td></tr><tr><th>6</th><td><em>missing</em></td><td>Antigua and Barbuda</td><td>17.0608</td><td>-61.7964</td><td>0</td></tr><tr><th>7</th><td><em>missing</em></td><td>Argentina</td><td>-38.4161</td><td>-63.6167</td><td>0</td></tr><tr><th>8</th><td><em>missing</em></td><td>Armenia</td><td>40.0691</td><td>45.0382</td><td>0</td></tr><tr><th>9</th><td>Australian Capital Territory</td><td>Australia</td><td>-35.4735</td><td>149.012</td><td>0</td></tr><tr><th>10</th><td>New South Wales</td><td>Australia</td><td>-33.8688</td><td>151.209</td><td>0</td></tr><tr><th>11</th><td>Northern Territory</td><td>Australia</td><td>-12.4634</td><td>130.846</td><td>0</td></tr><tr><th>12</th><td>Queensland</td><td>Australia</td><td>-27.4698</td><td>153.025</td><td>0</td></tr><tr><th>13</th><td>South Australia</td><td>Australia</td><td>-34.9285</td><td>138.601</td><td>0</td></tr><tr><th>14</th><td>Tasmania</td><td>Australia</td><td>-42.8821</td><td>147.327</td><td>0</td></tr><tr><th>15</th><td>Victoria</td><td>Australia</td><td>-37.8136</td><td>144.963</td><td>0</td></tr><tr><th>16</th><td>Western Australia</td><td>Australia</td><td>-31.9505</td><td>115.861</td><td>0</td></tr><tr><th>17</th><td><em>missing</em></td><td>Austria</td><td>47.5162</td><td>14.5501</td><td>0</td></tr><tr><th>18</th><td><em>missing</em></td><td>Azerbaijan</td><td>40.1431</td><td>47.5769</td><td>0</td></tr><tr><th>19</th><td><em>missing</em></td><td>Bahamas</td><td>25.0259</td><td>-78.0359</td><td>0</td></tr><tr><th>20</th><td><em>missing</em></td><td>Bahrain</td><td>26.0275</td><td>50.55</td><td>0</td></tr><tr><th>21</th><td><em>missing</em></td><td>Bangladesh</td><td>23.685</td><td>90.3563</td><td>0</td></tr><tr><th>22</th><td><em>missing</em></td><td>Barbados</td><td>13.1939</td><td>-59.5432</td><td>0</td></tr><tr><th>23</th><td><em>missing</em></td><td>Belarus</td><td>53.7098</td><td>27.9534</td><td>0</td></tr><tr><th>24</th><td><em>missing</em></td><td>Belgium</td><td>50.8333</td><td>4.46994</td><td>0</td></tr><tr><th>25</th><td><em>missing</em></td><td>Belize</td><td>17.1899</td><td>-88.4976</td><td>0</td></tr><tr><th>26</th><td><em>missing</em></td><td>Benin</td><td>9.3077</td><td>2.3158</td><td>0</td></tr><tr><th>27</th><td><em>missing</em></td><td>Bhutan</td><td>27.5142</td><td>90.4336</td><td>0</td></tr><tr><th>28</th><td><em>missing</em></td><td>Bolivia</td><td>-16.2902</td><td>-63.5887</td><td>0</td></tr><tr><th>29</th><td><em>missing</em></td><td>Bosnia and Herzegovina</td><td>43.9159</td><td>17.6791</td><td>0</td></tr><tr><th>30</th><td><em>missing</em></td><td>Botswana</td><td>-22.3285</td><td>24.6849</td><td>0</td></tr><tr><th>&vellip;</th><td>&vellip;</td><td>&vellip;</td><td>&vellip;</td><td>&vellip;</td><td>&vellip;</td></tr></tbody></table>"
      ],
      "text/latex": [
       "\\begin{tabular}{r|cccccc}\n",
       "\t& Province/State & Country/Region & Lat & Long & 1/22/20 & \\\\\n",
       "\t\\hline\n",
       "\t& String? & String & Float64? & Float64? & Int64 & \\\\\n",
       "\t\\hline\n",
       "\t1 & \\emph{missing} & Afghanistan & 33.9391 & 67.71 & 0 & $\\dots$ \\\\\n",
       "\t2 & \\emph{missing} & Albania & 41.1533 & 20.1683 & 0 & $\\dots$ \\\\\n",
       "\t3 & \\emph{missing} & Algeria & 28.0339 & 1.6596 & 0 & $\\dots$ \\\\\n",
       "\t4 & \\emph{missing} & Andorra & 42.5063 & 1.5218 & 0 & $\\dots$ \\\\\n",
       "\t5 & \\emph{missing} & Angola & -11.2027 & 17.8739 & 0 & $\\dots$ \\\\\n",
       "\t6 & \\emph{missing} & Antigua and Barbuda & 17.0608 & -61.7964 & 0 & $\\dots$ \\\\\n",
       "\t7 & \\emph{missing} & Argentina & -38.4161 & -63.6167 & 0 & $\\dots$ \\\\\n",
       "\t8 & \\emph{missing} & Armenia & 40.0691 & 45.0382 & 0 & $\\dots$ \\\\\n",
       "\t9 & Australian Capital Territory & Australia & -35.4735 & 149.012 & 0 & $\\dots$ \\\\\n",
       "\t10 & New South Wales & Australia & -33.8688 & 151.209 & 0 & $\\dots$ \\\\\n",
       "\t11 & Northern Territory & Australia & -12.4634 & 130.846 & 0 & $\\dots$ \\\\\n",
       "\t12 & Queensland & Australia & -27.4698 & 153.025 & 0 & $\\dots$ \\\\\n",
       "\t13 & South Australia & Australia & -34.9285 & 138.601 & 0 & $\\dots$ \\\\\n",
       "\t14 & Tasmania & Australia & -42.8821 & 147.327 & 0 & $\\dots$ \\\\\n",
       "\t15 & Victoria & Australia & -37.8136 & 144.963 & 0 & $\\dots$ \\\\\n",
       "\t16 & Western Australia & Australia & -31.9505 & 115.861 & 0 & $\\dots$ \\\\\n",
       "\t17 & \\emph{missing} & Austria & 47.5162 & 14.5501 & 0 & $\\dots$ \\\\\n",
       "\t18 & \\emph{missing} & Azerbaijan & 40.1431 & 47.5769 & 0 & $\\dots$ \\\\\n",
       "\t19 & \\emph{missing} & Bahamas & 25.0259 & -78.0359 & 0 & $\\dots$ \\\\\n",
       "\t20 & \\emph{missing} & Bahrain & 26.0275 & 50.55 & 0 & $\\dots$ \\\\\n",
       "\t21 & \\emph{missing} & Bangladesh & 23.685 & 90.3563 & 0 & $\\dots$ \\\\\n",
       "\t22 & \\emph{missing} & Barbados & 13.1939 & -59.5432 & 0 & $\\dots$ \\\\\n",
       "\t23 & \\emph{missing} & Belarus & 53.7098 & 27.9534 & 0 & $\\dots$ \\\\\n",
       "\t24 & \\emph{missing} & Belgium & 50.8333 & 4.46994 & 0 & $\\dots$ \\\\\n",
       "\t25 & \\emph{missing} & Belize & 17.1899 & -88.4976 & 0 & $\\dots$ \\\\\n",
       "\t26 & \\emph{missing} & Benin & 9.3077 & 2.3158 & 0 & $\\dots$ \\\\\n",
       "\t27 & \\emph{missing} & Bhutan & 27.5142 & 90.4336 & 0 & $\\dots$ \\\\\n",
       "\t28 & \\emph{missing} & Bolivia & -16.2902 & -63.5887 & 0 & $\\dots$ \\\\\n",
       "\t29 & \\emph{missing} & Bosnia and Herzegovina & 43.9159 & 17.6791 & 0 & $\\dots$ \\\\\n",
       "\t30 & \\emph{missing} & Botswana & -22.3285 & 24.6849 & 0 & $\\dots$ \\\\\n",
       "\t$\\dots$ & $\\dots$ & $\\dots$ & $\\dots$ & $\\dots$ & $\\dots$ &  \\\\\n",
       "\\end{tabular}\n"
      ],
      "text/plain": [
       "\u001b[1m271×346 DataFrame\u001b[0m\n",
       "\u001b[1m Row \u001b[0m│\u001b[1m Province/State               \u001b[0m\u001b[1m Country/Region      \u001b[0m\u001b[1m Lat      \u001b[0m\u001b[1m Long     \u001b[0m\u001b[1m \u001b[0m ⋯\n",
       "\u001b[1m     \u001b[0m│\u001b[90m String?                      \u001b[0m\u001b[90m String              \u001b[0m\u001b[90m Float64? \u001b[0m\u001b[90m Float64? \u001b[0m\u001b[90m \u001b[0m ⋯\n",
       "─────┼──────────────────────────────────────────────────────────────────────────\n",
       "   1 │\u001b[90m missing                      \u001b[0m Afghanistan           33.9391   67.71     ⋯\n",
       "   2 │\u001b[90m missing                      \u001b[0m Albania               41.1533   20.1683\n",
       "   3 │\u001b[90m missing                      \u001b[0m Algeria               28.0339    1.6596\n",
       "   4 │\u001b[90m missing                      \u001b[0m Andorra               42.5063    1.5218\n",
       "   5 │\u001b[90m missing                      \u001b[0m Angola               -11.2027   17.8739   ⋯\n",
       "   6 │\u001b[90m missing                      \u001b[0m Antigua and Barbuda   17.0608  -61.7964\n",
       "   7 │\u001b[90m missing                      \u001b[0m Argentina            -38.4161  -63.6167\n",
       "   8 │\u001b[90m missing                      \u001b[0m Armenia               40.0691   45.0382\n",
       "   9 │ Australian Capital Territory  Australia            -35.4735  149.012    ⋯\n",
       "  10 │ New South Wales               Australia            -33.8688  151.209\n",
       "  11 │ Northern Territory            Australia            -12.4634  130.846\n",
       "  ⋮  │              ⋮                         ⋮              ⋮         ⋮       ⋱\n",
       " 262 │\u001b[90m missing                      \u001b[0m United Kingdom        55.3781   -3.436\n",
       " 263 │\u001b[90m missing                      \u001b[0m Uruguay              -32.5228  -55.7658   ⋯\n",
       " 264 │\u001b[90m missing                      \u001b[0m Uzbekistan            41.3775   64.5853\n",
       " 265 │\u001b[90m missing                      \u001b[0m Vanuatu              -15.3767  166.959\n",
       " 266 │\u001b[90m missing                      \u001b[0m Venezuela              6.4238  -66.5897\n",
       " 267 │\u001b[90m missing                      \u001b[0m Vietnam               14.0583  108.277    ⋯\n",
       " 268 │\u001b[90m missing                      \u001b[0m West Bank and Gaza    31.9522   35.2332\n",
       " 269 │\u001b[90m missing                      \u001b[0m Yemen                 15.5527   48.5164\n",
       " 270 │\u001b[90m missing                      \u001b[0m Zambia               -13.1339   27.8493\n",
       " 271 │\u001b[90m missing                      \u001b[0m Zimbabwe             -19.0154   29.1549   ⋯\n",
       "\u001b[31m                                                342 columns and 250 rows omitted\u001b[0m"
      ]
     },
     "execution_count": 14,
     "metadata": {},
     "output_type": "execute_result"
    }
   ],
   "source": [
    "data = CSV.read(\"covid_data.csv\", DataFrame)\n",
    "data"
   ]
  },
  {
   "cell_type": "code",
   "execution_count": 15,
   "metadata": {},
   "outputs": [
    {
     "data": {
      "text/plain": [
       "DataFrame"
      ]
     },
     "execution_count": 15,
     "metadata": {},
     "output_type": "execute_result"
    }
   ],
   "source": [
    "typeof(data)"
   ]
  },
  {
   "cell_type": "markdown",
   "metadata": {},
   "source": [
    "We can rename each column name."
   ]
  },
  {
   "cell_type": "code",
   "execution_count": 16,
   "metadata": {},
   "outputs": [
    {
     "data": {
      "text/html": [
       "<table class=\"data-frame\"><thead><tr><th></th><th>province</th><th>country</th><th>Lat</th><th>Long</th><th>1/22/20</th></tr><tr><th></th><th>String?</th><th>String</th><th>Float64?</th><th>Float64?</th><th>Int64</th></tr></thead><tbody><p>271 rows × 346 columns (omitted printing of 341 columns)</p><tr><th>1</th><td><em>missing</em></td><td>Afghanistan</td><td>33.9391</td><td>67.71</td><td>0</td></tr><tr><th>2</th><td><em>missing</em></td><td>Albania</td><td>41.1533</td><td>20.1683</td><td>0</td></tr><tr><th>3</th><td><em>missing</em></td><td>Algeria</td><td>28.0339</td><td>1.6596</td><td>0</td></tr><tr><th>4</th><td><em>missing</em></td><td>Andorra</td><td>42.5063</td><td>1.5218</td><td>0</td></tr><tr><th>5</th><td><em>missing</em></td><td>Angola</td><td>-11.2027</td><td>17.8739</td><td>0</td></tr><tr><th>6</th><td><em>missing</em></td><td>Antigua and Barbuda</td><td>17.0608</td><td>-61.7964</td><td>0</td></tr><tr><th>7</th><td><em>missing</em></td><td>Argentina</td><td>-38.4161</td><td>-63.6167</td><td>0</td></tr><tr><th>8</th><td><em>missing</em></td><td>Armenia</td><td>40.0691</td><td>45.0382</td><td>0</td></tr><tr><th>9</th><td>Australian Capital Territory</td><td>Australia</td><td>-35.4735</td><td>149.012</td><td>0</td></tr><tr><th>10</th><td>New South Wales</td><td>Australia</td><td>-33.8688</td><td>151.209</td><td>0</td></tr><tr><th>11</th><td>Northern Territory</td><td>Australia</td><td>-12.4634</td><td>130.846</td><td>0</td></tr><tr><th>12</th><td>Queensland</td><td>Australia</td><td>-27.4698</td><td>153.025</td><td>0</td></tr><tr><th>13</th><td>South Australia</td><td>Australia</td><td>-34.9285</td><td>138.601</td><td>0</td></tr><tr><th>14</th><td>Tasmania</td><td>Australia</td><td>-42.8821</td><td>147.327</td><td>0</td></tr><tr><th>15</th><td>Victoria</td><td>Australia</td><td>-37.8136</td><td>144.963</td><td>0</td></tr><tr><th>16</th><td>Western Australia</td><td>Australia</td><td>-31.9505</td><td>115.861</td><td>0</td></tr><tr><th>17</th><td><em>missing</em></td><td>Austria</td><td>47.5162</td><td>14.5501</td><td>0</td></tr><tr><th>18</th><td><em>missing</em></td><td>Azerbaijan</td><td>40.1431</td><td>47.5769</td><td>0</td></tr><tr><th>19</th><td><em>missing</em></td><td>Bahamas</td><td>25.0259</td><td>-78.0359</td><td>0</td></tr><tr><th>20</th><td><em>missing</em></td><td>Bahrain</td><td>26.0275</td><td>50.55</td><td>0</td></tr><tr><th>21</th><td><em>missing</em></td><td>Bangladesh</td><td>23.685</td><td>90.3563</td><td>0</td></tr><tr><th>22</th><td><em>missing</em></td><td>Barbados</td><td>13.1939</td><td>-59.5432</td><td>0</td></tr><tr><th>23</th><td><em>missing</em></td><td>Belarus</td><td>53.7098</td><td>27.9534</td><td>0</td></tr><tr><th>24</th><td><em>missing</em></td><td>Belgium</td><td>50.8333</td><td>4.46994</td><td>0</td></tr><tr><th>25</th><td><em>missing</em></td><td>Belize</td><td>17.1899</td><td>-88.4976</td><td>0</td></tr><tr><th>26</th><td><em>missing</em></td><td>Benin</td><td>9.3077</td><td>2.3158</td><td>0</td></tr><tr><th>27</th><td><em>missing</em></td><td>Bhutan</td><td>27.5142</td><td>90.4336</td><td>0</td></tr><tr><th>28</th><td><em>missing</em></td><td>Bolivia</td><td>-16.2902</td><td>-63.5887</td><td>0</td></tr><tr><th>29</th><td><em>missing</em></td><td>Bosnia and Herzegovina</td><td>43.9159</td><td>17.6791</td><td>0</td></tr><tr><th>30</th><td><em>missing</em></td><td>Botswana</td><td>-22.3285</td><td>24.6849</td><td>0</td></tr><tr><th>&vellip;</th><td>&vellip;</td><td>&vellip;</td><td>&vellip;</td><td>&vellip;</td><td>&vellip;</td></tr></tbody></table>"
      ],
      "text/latex": [
       "\\begin{tabular}{r|cccccc}\n",
       "\t& province & country & Lat & Long & 1/22/20 & \\\\\n",
       "\t\\hline\n",
       "\t& String? & String & Float64? & Float64? & Int64 & \\\\\n",
       "\t\\hline\n",
       "\t1 & \\emph{missing} & Afghanistan & 33.9391 & 67.71 & 0 & $\\dots$ \\\\\n",
       "\t2 & \\emph{missing} & Albania & 41.1533 & 20.1683 & 0 & $\\dots$ \\\\\n",
       "\t3 & \\emph{missing} & Algeria & 28.0339 & 1.6596 & 0 & $\\dots$ \\\\\n",
       "\t4 & \\emph{missing} & Andorra & 42.5063 & 1.5218 & 0 & $\\dots$ \\\\\n",
       "\t5 & \\emph{missing} & Angola & -11.2027 & 17.8739 & 0 & $\\dots$ \\\\\n",
       "\t6 & \\emph{missing} & Antigua and Barbuda & 17.0608 & -61.7964 & 0 & $\\dots$ \\\\\n",
       "\t7 & \\emph{missing} & Argentina & -38.4161 & -63.6167 & 0 & $\\dots$ \\\\\n",
       "\t8 & \\emph{missing} & Armenia & 40.0691 & 45.0382 & 0 & $\\dots$ \\\\\n",
       "\t9 & Australian Capital Territory & Australia & -35.4735 & 149.012 & 0 & $\\dots$ \\\\\n",
       "\t10 & New South Wales & Australia & -33.8688 & 151.209 & 0 & $\\dots$ \\\\\n",
       "\t11 & Northern Territory & Australia & -12.4634 & 130.846 & 0 & $\\dots$ \\\\\n",
       "\t12 & Queensland & Australia & -27.4698 & 153.025 & 0 & $\\dots$ \\\\\n",
       "\t13 & South Australia & Australia & -34.9285 & 138.601 & 0 & $\\dots$ \\\\\n",
       "\t14 & Tasmania & Australia & -42.8821 & 147.327 & 0 & $\\dots$ \\\\\n",
       "\t15 & Victoria & Australia & -37.8136 & 144.963 & 0 & $\\dots$ \\\\\n",
       "\t16 & Western Australia & Australia & -31.9505 & 115.861 & 0 & $\\dots$ \\\\\n",
       "\t17 & \\emph{missing} & Austria & 47.5162 & 14.5501 & 0 & $\\dots$ \\\\\n",
       "\t18 & \\emph{missing} & Azerbaijan & 40.1431 & 47.5769 & 0 & $\\dots$ \\\\\n",
       "\t19 & \\emph{missing} & Bahamas & 25.0259 & -78.0359 & 0 & $\\dots$ \\\\\n",
       "\t20 & \\emph{missing} & Bahrain & 26.0275 & 50.55 & 0 & $\\dots$ \\\\\n",
       "\t21 & \\emph{missing} & Bangladesh & 23.685 & 90.3563 & 0 & $\\dots$ \\\\\n",
       "\t22 & \\emph{missing} & Barbados & 13.1939 & -59.5432 & 0 & $\\dots$ \\\\\n",
       "\t23 & \\emph{missing} & Belarus & 53.7098 & 27.9534 & 0 & $\\dots$ \\\\\n",
       "\t24 & \\emph{missing} & Belgium & 50.8333 & 4.46994 & 0 & $\\dots$ \\\\\n",
       "\t25 & \\emph{missing} & Belize & 17.1899 & -88.4976 & 0 & $\\dots$ \\\\\n",
       "\t26 & \\emph{missing} & Benin & 9.3077 & 2.3158 & 0 & $\\dots$ \\\\\n",
       "\t27 & \\emph{missing} & Bhutan & 27.5142 & 90.4336 & 0 & $\\dots$ \\\\\n",
       "\t28 & \\emph{missing} & Bolivia & -16.2902 & -63.5887 & 0 & $\\dots$ \\\\\n",
       "\t29 & \\emph{missing} & Bosnia and Herzegovina & 43.9159 & 17.6791 & 0 & $\\dots$ \\\\\n",
       "\t30 & \\emph{missing} & Botswana & -22.3285 & 24.6849 & 0 & $\\dots$ \\\\\n",
       "\t$\\dots$ & $\\dots$ & $\\dots$ & $\\dots$ & $\\dots$ & $\\dots$ &  \\\\\n",
       "\\end{tabular}\n"
      ],
      "text/plain": [
       "\u001b[1m271×346 DataFrame\u001b[0m\n",
       "\u001b[1m Row \u001b[0m│\u001b[1m province                     \u001b[0m\u001b[1m country             \u001b[0m\u001b[1m Lat      \u001b[0m\u001b[1m Long     \u001b[0m\u001b[1m \u001b[0m ⋯\n",
       "\u001b[1m     \u001b[0m│\u001b[90m String?                      \u001b[0m\u001b[90m String              \u001b[0m\u001b[90m Float64? \u001b[0m\u001b[90m Float64? \u001b[0m\u001b[90m \u001b[0m ⋯\n",
       "─────┼──────────────────────────────────────────────────────────────────────────\n",
       "   1 │\u001b[90m missing                      \u001b[0m Afghanistan           33.9391   67.71     ⋯\n",
       "   2 │\u001b[90m missing                      \u001b[0m Albania               41.1533   20.1683\n",
       "   3 │\u001b[90m missing                      \u001b[0m Algeria               28.0339    1.6596\n",
       "   4 │\u001b[90m missing                      \u001b[0m Andorra               42.5063    1.5218\n",
       "   5 │\u001b[90m missing                      \u001b[0m Angola               -11.2027   17.8739   ⋯\n",
       "   6 │\u001b[90m missing                      \u001b[0m Antigua and Barbuda   17.0608  -61.7964\n",
       "   7 │\u001b[90m missing                      \u001b[0m Argentina            -38.4161  -63.6167\n",
       "   8 │\u001b[90m missing                      \u001b[0m Armenia               40.0691   45.0382\n",
       "   9 │ Australian Capital Territory  Australia            -35.4735  149.012    ⋯\n",
       "  10 │ New South Wales               Australia            -33.8688  151.209\n",
       "  11 │ Northern Territory            Australia            -12.4634  130.846\n",
       "  ⋮  │              ⋮                         ⋮              ⋮         ⋮       ⋱\n",
       " 262 │\u001b[90m missing                      \u001b[0m United Kingdom        55.3781   -3.436\n",
       " 263 │\u001b[90m missing                      \u001b[0m Uruguay              -32.5228  -55.7658   ⋯\n",
       " 264 │\u001b[90m missing                      \u001b[0m Uzbekistan            41.3775   64.5853\n",
       " 265 │\u001b[90m missing                      \u001b[0m Vanuatu              -15.3767  166.959\n",
       " 266 │\u001b[90m missing                      \u001b[0m Venezuela              6.4238  -66.5897\n",
       " 267 │\u001b[90m missing                      \u001b[0m Vietnam               14.0583  108.277    ⋯\n",
       " 268 │\u001b[90m missing                      \u001b[0m West Bank and Gaza    31.9522   35.2332\n",
       " 269 │\u001b[90m missing                      \u001b[0m Yemen                 15.5527   48.5164\n",
       " 270 │\u001b[90m missing                      \u001b[0m Zambia               -13.1339   27.8493\n",
       " 271 │\u001b[90m missing                      \u001b[0m Zimbabwe             -19.0154   29.1549   ⋯\n",
       "\u001b[31m                                                342 columns and 250 rows omitted\u001b[0m"
      ]
     },
     "execution_count": 16,
     "metadata": {},
     "output_type": "execute_result"
    }
   ],
   "source": [
    "data_2 = rename(data, 1 => \"province\", 2 => \"country\")\n",
    "data_2"
   ]
  },
  {
   "cell_type": "code",
   "execution_count": 17,
   "metadata": {},
   "outputs": [
    {
     "data": {
      "text/html": [
       "<table class=\"data-frame\"><thead><tr><th></th><th>province</th><th>country</th><th>Lat</th><th>Long</th><th>1/22/20</th></tr><tr><th></th><th>String?</th><th>String</th><th>Float64?</th><th>Float64?</th><th>Int64</th></tr></thead><tbody><p>271 rows × 346 columns (omitted printing of 341 columns)</p><tr><th>1</th><td><em>missing</em></td><td>Afghanistan</td><td>33.9391</td><td>67.71</td><td>0</td></tr><tr><th>2</th><td><em>missing</em></td><td>Albania</td><td>41.1533</td><td>20.1683</td><td>0</td></tr><tr><th>3</th><td><em>missing</em></td><td>Algeria</td><td>28.0339</td><td>1.6596</td><td>0</td></tr><tr><th>4</th><td><em>missing</em></td><td>Andorra</td><td>42.5063</td><td>1.5218</td><td>0</td></tr><tr><th>5</th><td><em>missing</em></td><td>Angola</td><td>-11.2027</td><td>17.8739</td><td>0</td></tr><tr><th>6</th><td><em>missing</em></td><td>Antigua and Barbuda</td><td>17.0608</td><td>-61.7964</td><td>0</td></tr><tr><th>7</th><td><em>missing</em></td><td>Argentina</td><td>-38.4161</td><td>-63.6167</td><td>0</td></tr><tr><th>8</th><td><em>missing</em></td><td>Armenia</td><td>40.0691</td><td>45.0382</td><td>0</td></tr><tr><th>9</th><td>Australian Capital Territory</td><td>Australia</td><td>-35.4735</td><td>149.012</td><td>0</td></tr><tr><th>10</th><td>New South Wales</td><td>Australia</td><td>-33.8688</td><td>151.209</td><td>0</td></tr><tr><th>11</th><td>Northern Territory</td><td>Australia</td><td>-12.4634</td><td>130.846</td><td>0</td></tr><tr><th>12</th><td>Queensland</td><td>Australia</td><td>-27.4698</td><td>153.025</td><td>0</td></tr><tr><th>13</th><td>South Australia</td><td>Australia</td><td>-34.9285</td><td>138.601</td><td>0</td></tr><tr><th>14</th><td>Tasmania</td><td>Australia</td><td>-42.8821</td><td>147.327</td><td>0</td></tr><tr><th>15</th><td>Victoria</td><td>Australia</td><td>-37.8136</td><td>144.963</td><td>0</td></tr><tr><th>16</th><td>Western Australia</td><td>Australia</td><td>-31.9505</td><td>115.861</td><td>0</td></tr><tr><th>17</th><td><em>missing</em></td><td>Austria</td><td>47.5162</td><td>14.5501</td><td>0</td></tr><tr><th>18</th><td><em>missing</em></td><td>Azerbaijan</td><td>40.1431</td><td>47.5769</td><td>0</td></tr><tr><th>19</th><td><em>missing</em></td><td>Bahamas</td><td>25.0259</td><td>-78.0359</td><td>0</td></tr><tr><th>20</th><td><em>missing</em></td><td>Bahrain</td><td>26.0275</td><td>50.55</td><td>0</td></tr><tr><th>21</th><td><em>missing</em></td><td>Bangladesh</td><td>23.685</td><td>90.3563</td><td>0</td></tr><tr><th>22</th><td><em>missing</em></td><td>Barbados</td><td>13.1939</td><td>-59.5432</td><td>0</td></tr><tr><th>23</th><td><em>missing</em></td><td>Belarus</td><td>53.7098</td><td>27.9534</td><td>0</td></tr><tr><th>24</th><td><em>missing</em></td><td>Belgium</td><td>50.8333</td><td>4.46994</td><td>0</td></tr><tr><th>25</th><td><em>missing</em></td><td>Belize</td><td>17.1899</td><td>-88.4976</td><td>0</td></tr><tr><th>26</th><td><em>missing</em></td><td>Benin</td><td>9.3077</td><td>2.3158</td><td>0</td></tr><tr><th>27</th><td><em>missing</em></td><td>Bhutan</td><td>27.5142</td><td>90.4336</td><td>0</td></tr><tr><th>28</th><td><em>missing</em></td><td>Bolivia</td><td>-16.2902</td><td>-63.5887</td><td>0</td></tr><tr><th>29</th><td><em>missing</em></td><td>Bosnia and Herzegovina</td><td>43.9159</td><td>17.6791</td><td>0</td></tr><tr><th>30</th><td><em>missing</em></td><td>Botswana</td><td>-22.3285</td><td>24.6849</td><td>0</td></tr><tr><th>&vellip;</th><td>&vellip;</td><td>&vellip;</td><td>&vellip;</td><td>&vellip;</td><td>&vellip;</td></tr></tbody></table>"
      ],
      "text/latex": [
       "\\begin{tabular}{r|cccccc}\n",
       "\t& province & country & Lat & Long & 1/22/20 & \\\\\n",
       "\t\\hline\n",
       "\t& String? & String & Float64? & Float64? & Int64 & \\\\\n",
       "\t\\hline\n",
       "\t1 & \\emph{missing} & Afghanistan & 33.9391 & 67.71 & 0 & $\\dots$ \\\\\n",
       "\t2 & \\emph{missing} & Albania & 41.1533 & 20.1683 & 0 & $\\dots$ \\\\\n",
       "\t3 & \\emph{missing} & Algeria & 28.0339 & 1.6596 & 0 & $\\dots$ \\\\\n",
       "\t4 & \\emph{missing} & Andorra & 42.5063 & 1.5218 & 0 & $\\dots$ \\\\\n",
       "\t5 & \\emph{missing} & Angola & -11.2027 & 17.8739 & 0 & $\\dots$ \\\\\n",
       "\t6 & \\emph{missing} & Antigua and Barbuda & 17.0608 & -61.7964 & 0 & $\\dots$ \\\\\n",
       "\t7 & \\emph{missing} & Argentina & -38.4161 & -63.6167 & 0 & $\\dots$ \\\\\n",
       "\t8 & \\emph{missing} & Armenia & 40.0691 & 45.0382 & 0 & $\\dots$ \\\\\n",
       "\t9 & Australian Capital Territory & Australia & -35.4735 & 149.012 & 0 & $\\dots$ \\\\\n",
       "\t10 & New South Wales & Australia & -33.8688 & 151.209 & 0 & $\\dots$ \\\\\n",
       "\t11 & Northern Territory & Australia & -12.4634 & 130.846 & 0 & $\\dots$ \\\\\n",
       "\t12 & Queensland & Australia & -27.4698 & 153.025 & 0 & $\\dots$ \\\\\n",
       "\t13 & South Australia & Australia & -34.9285 & 138.601 & 0 & $\\dots$ \\\\\n",
       "\t14 & Tasmania & Australia & -42.8821 & 147.327 & 0 & $\\dots$ \\\\\n",
       "\t15 & Victoria & Australia & -37.8136 & 144.963 & 0 & $\\dots$ \\\\\n",
       "\t16 & Western Australia & Australia & -31.9505 & 115.861 & 0 & $\\dots$ \\\\\n",
       "\t17 & \\emph{missing} & Austria & 47.5162 & 14.5501 & 0 & $\\dots$ \\\\\n",
       "\t18 & \\emph{missing} & Azerbaijan & 40.1431 & 47.5769 & 0 & $\\dots$ \\\\\n",
       "\t19 & \\emph{missing} & Bahamas & 25.0259 & -78.0359 & 0 & $\\dots$ \\\\\n",
       "\t20 & \\emph{missing} & Bahrain & 26.0275 & 50.55 & 0 & $\\dots$ \\\\\n",
       "\t21 & \\emph{missing} & Bangladesh & 23.685 & 90.3563 & 0 & $\\dots$ \\\\\n",
       "\t22 & \\emph{missing} & Barbados & 13.1939 & -59.5432 & 0 & $\\dots$ \\\\\n",
       "\t23 & \\emph{missing} & Belarus & 53.7098 & 27.9534 & 0 & $\\dots$ \\\\\n",
       "\t24 & \\emph{missing} & Belgium & 50.8333 & 4.46994 & 0 & $\\dots$ \\\\\n",
       "\t25 & \\emph{missing} & Belize & 17.1899 & -88.4976 & 0 & $\\dots$ \\\\\n",
       "\t26 & \\emph{missing} & Benin & 9.3077 & 2.3158 & 0 & $\\dots$ \\\\\n",
       "\t27 & \\emph{missing} & Bhutan & 27.5142 & 90.4336 & 0 & $\\dots$ \\\\\n",
       "\t28 & \\emph{missing} & Bolivia & -16.2902 & -63.5887 & 0 & $\\dots$ \\\\\n",
       "\t29 & \\emph{missing} & Bosnia and Herzegovina & 43.9159 & 17.6791 & 0 & $\\dots$ \\\\\n",
       "\t30 & \\emph{missing} & Botswana & -22.3285 & 24.6849 & 0 & $\\dots$ \\\\\n",
       "\t$\\dots$ & $\\dots$ & $\\dots$ & $\\dots$ & $\\dots$ & $\\dots$ &  \\\\\n",
       "\\end{tabular}\n"
      ],
      "text/plain": [
       "\u001b[1m271×346 DataFrame\u001b[0m\n",
       "\u001b[1m Row \u001b[0m│\u001b[1m province                     \u001b[0m\u001b[1m country             \u001b[0m\u001b[1m Lat      \u001b[0m\u001b[1m Long     \u001b[0m\u001b[1m \u001b[0m ⋯\n",
       "\u001b[1m     \u001b[0m│\u001b[90m String?                      \u001b[0m\u001b[90m String              \u001b[0m\u001b[90m Float64? \u001b[0m\u001b[90m Float64? \u001b[0m\u001b[90m \u001b[0m ⋯\n",
       "─────┼──────────────────────────────────────────────────────────────────────────\n",
       "   1 │\u001b[90m missing                      \u001b[0m Afghanistan           33.9391   67.71     ⋯\n",
       "   2 │\u001b[90m missing                      \u001b[0m Albania               41.1533   20.1683\n",
       "   3 │\u001b[90m missing                      \u001b[0m Algeria               28.0339    1.6596\n",
       "   4 │\u001b[90m missing                      \u001b[0m Andorra               42.5063    1.5218\n",
       "   5 │\u001b[90m missing                      \u001b[0m Angola               -11.2027   17.8739   ⋯\n",
       "   6 │\u001b[90m missing                      \u001b[0m Antigua and Barbuda   17.0608  -61.7964\n",
       "   7 │\u001b[90m missing                      \u001b[0m Argentina            -38.4161  -63.6167\n",
       "   8 │\u001b[90m missing                      \u001b[0m Armenia               40.0691   45.0382\n",
       "   9 │ Australian Capital Territory  Australia            -35.4735  149.012    ⋯\n",
       "  10 │ New South Wales               Australia            -33.8688  151.209\n",
       "  11 │ Northern Territory            Australia            -12.4634  130.846\n",
       "  ⋮  │              ⋮                         ⋮              ⋮         ⋮       ⋱\n",
       " 262 │\u001b[90m missing                      \u001b[0m United Kingdom        55.3781   -3.436\n",
       " 263 │\u001b[90m missing                      \u001b[0m Uruguay              -32.5228  -55.7658   ⋯\n",
       " 264 │\u001b[90m missing                      \u001b[0m Uzbekistan            41.3775   64.5853\n",
       " 265 │\u001b[90m missing                      \u001b[0m Vanuatu              -15.3767  166.959\n",
       " 266 │\u001b[90m missing                      \u001b[0m Venezuela              6.4238  -66.5897\n",
       " 267 │\u001b[90m missing                      \u001b[0m Vietnam               14.0583  108.277    ⋯\n",
       " 268 │\u001b[90m missing                      \u001b[0m West Bank and Gaza    31.9522   35.2332\n",
       " 269 │\u001b[90m missing                      \u001b[0m Yemen                 15.5527   48.5164\n",
       " 270 │\u001b[90m missing                      \u001b[0m Zambia               -13.1339   27.8493\n",
       " 271 │\u001b[90m missing                      \u001b[0m Zimbabwe             -19.0154   29.1549   ⋯\n",
       "\u001b[31m                                                342 columns and 250 rows omitted\u001b[0m"
      ]
     },
     "execution_count": 17,
     "metadata": {},
     "output_type": "execute_result"
    }
   ],
   "source": [
    "# ! is convention: function *modifies* its argument in place\n",
    "rename!(data, 1 => \"province\", 2 => \"country\") "
   ]
  },
  {
   "cell_type": "code",
   "execution_count": 18,
   "metadata": {},
   "outputs": [
    {
     "data": {
      "text/html": [
       "<table class=\"data-frame\"><thead><tr><th></th><th>province</th><th>country</th><th>Lat</th><th>Long</th><th>1/22/20</th></tr><tr><th></th><th>String?</th><th>String</th><th>Float64?</th><th>Float64?</th><th>Int64</th></tr></thead><tbody><p>271 rows × 346 columns (omitted printing of 341 columns)</p><tr><th>1</th><td><em>missing</em></td><td>Afghanistan</td><td>33.9391</td><td>67.71</td><td>0</td></tr><tr><th>2</th><td><em>missing</em></td><td>Albania</td><td>41.1533</td><td>20.1683</td><td>0</td></tr><tr><th>3</th><td><em>missing</em></td><td>Algeria</td><td>28.0339</td><td>1.6596</td><td>0</td></tr><tr><th>4</th><td><em>missing</em></td><td>Andorra</td><td>42.5063</td><td>1.5218</td><td>0</td></tr><tr><th>5</th><td><em>missing</em></td><td>Angola</td><td>-11.2027</td><td>17.8739</td><td>0</td></tr><tr><th>6</th><td><em>missing</em></td><td>Antigua and Barbuda</td><td>17.0608</td><td>-61.7964</td><td>0</td></tr><tr><th>7</th><td><em>missing</em></td><td>Argentina</td><td>-38.4161</td><td>-63.6167</td><td>0</td></tr><tr><th>8</th><td><em>missing</em></td><td>Armenia</td><td>40.0691</td><td>45.0382</td><td>0</td></tr><tr><th>9</th><td>Australian Capital Territory</td><td>Australia</td><td>-35.4735</td><td>149.012</td><td>0</td></tr><tr><th>10</th><td>New South Wales</td><td>Australia</td><td>-33.8688</td><td>151.209</td><td>0</td></tr><tr><th>11</th><td>Northern Territory</td><td>Australia</td><td>-12.4634</td><td>130.846</td><td>0</td></tr><tr><th>12</th><td>Queensland</td><td>Australia</td><td>-27.4698</td><td>153.025</td><td>0</td></tr><tr><th>13</th><td>South Australia</td><td>Australia</td><td>-34.9285</td><td>138.601</td><td>0</td></tr><tr><th>14</th><td>Tasmania</td><td>Australia</td><td>-42.8821</td><td>147.327</td><td>0</td></tr><tr><th>15</th><td>Victoria</td><td>Australia</td><td>-37.8136</td><td>144.963</td><td>0</td></tr><tr><th>16</th><td>Western Australia</td><td>Australia</td><td>-31.9505</td><td>115.861</td><td>0</td></tr><tr><th>17</th><td><em>missing</em></td><td>Austria</td><td>47.5162</td><td>14.5501</td><td>0</td></tr><tr><th>18</th><td><em>missing</em></td><td>Azerbaijan</td><td>40.1431</td><td>47.5769</td><td>0</td></tr><tr><th>19</th><td><em>missing</em></td><td>Bahamas</td><td>25.0259</td><td>-78.0359</td><td>0</td></tr><tr><th>20</th><td><em>missing</em></td><td>Bahrain</td><td>26.0275</td><td>50.55</td><td>0</td></tr><tr><th>21</th><td><em>missing</em></td><td>Bangladesh</td><td>23.685</td><td>90.3563</td><td>0</td></tr><tr><th>22</th><td><em>missing</em></td><td>Barbados</td><td>13.1939</td><td>-59.5432</td><td>0</td></tr><tr><th>23</th><td><em>missing</em></td><td>Belarus</td><td>53.7098</td><td>27.9534</td><td>0</td></tr><tr><th>24</th><td><em>missing</em></td><td>Belgium</td><td>50.8333</td><td>4.46994</td><td>0</td></tr><tr><th>25</th><td><em>missing</em></td><td>Belize</td><td>17.1899</td><td>-88.4976</td><td>0</td></tr><tr><th>26</th><td><em>missing</em></td><td>Benin</td><td>9.3077</td><td>2.3158</td><td>0</td></tr><tr><th>27</th><td><em>missing</em></td><td>Bhutan</td><td>27.5142</td><td>90.4336</td><td>0</td></tr><tr><th>28</th><td><em>missing</em></td><td>Bolivia</td><td>-16.2902</td><td>-63.5887</td><td>0</td></tr><tr><th>29</th><td><em>missing</em></td><td>Bosnia and Herzegovina</td><td>43.9159</td><td>17.6791</td><td>0</td></tr><tr><th>30</th><td><em>missing</em></td><td>Botswana</td><td>-22.3285</td><td>24.6849</td><td>0</td></tr><tr><th>&vellip;</th><td>&vellip;</td><td>&vellip;</td><td>&vellip;</td><td>&vellip;</td><td>&vellip;</td></tr></tbody></table>"
      ],
      "text/latex": [
       "\\begin{tabular}{r|cccccc}\n",
       "\t& province & country & Lat & Long & 1/22/20 & \\\\\n",
       "\t\\hline\n",
       "\t& String? & String & Float64? & Float64? & Int64 & \\\\\n",
       "\t\\hline\n",
       "\t1 & \\emph{missing} & Afghanistan & 33.9391 & 67.71 & 0 & $\\dots$ \\\\\n",
       "\t2 & \\emph{missing} & Albania & 41.1533 & 20.1683 & 0 & $\\dots$ \\\\\n",
       "\t3 & \\emph{missing} & Algeria & 28.0339 & 1.6596 & 0 & $\\dots$ \\\\\n",
       "\t4 & \\emph{missing} & Andorra & 42.5063 & 1.5218 & 0 & $\\dots$ \\\\\n",
       "\t5 & \\emph{missing} & Angola & -11.2027 & 17.8739 & 0 & $\\dots$ \\\\\n",
       "\t6 & \\emph{missing} & Antigua and Barbuda & 17.0608 & -61.7964 & 0 & $\\dots$ \\\\\n",
       "\t7 & \\emph{missing} & Argentina & -38.4161 & -63.6167 & 0 & $\\dots$ \\\\\n",
       "\t8 & \\emph{missing} & Armenia & 40.0691 & 45.0382 & 0 & $\\dots$ \\\\\n",
       "\t9 & Australian Capital Territory & Australia & -35.4735 & 149.012 & 0 & $\\dots$ \\\\\n",
       "\t10 & New South Wales & Australia & -33.8688 & 151.209 & 0 & $\\dots$ \\\\\n",
       "\t11 & Northern Territory & Australia & -12.4634 & 130.846 & 0 & $\\dots$ \\\\\n",
       "\t12 & Queensland & Australia & -27.4698 & 153.025 & 0 & $\\dots$ \\\\\n",
       "\t13 & South Australia & Australia & -34.9285 & 138.601 & 0 & $\\dots$ \\\\\n",
       "\t14 & Tasmania & Australia & -42.8821 & 147.327 & 0 & $\\dots$ \\\\\n",
       "\t15 & Victoria & Australia & -37.8136 & 144.963 & 0 & $\\dots$ \\\\\n",
       "\t16 & Western Australia & Australia & -31.9505 & 115.861 & 0 & $\\dots$ \\\\\n",
       "\t17 & \\emph{missing} & Austria & 47.5162 & 14.5501 & 0 & $\\dots$ \\\\\n",
       "\t18 & \\emph{missing} & Azerbaijan & 40.1431 & 47.5769 & 0 & $\\dots$ \\\\\n",
       "\t19 & \\emph{missing} & Bahamas & 25.0259 & -78.0359 & 0 & $\\dots$ \\\\\n",
       "\t20 & \\emph{missing} & Bahrain & 26.0275 & 50.55 & 0 & $\\dots$ \\\\\n",
       "\t21 & \\emph{missing} & Bangladesh & 23.685 & 90.3563 & 0 & $\\dots$ \\\\\n",
       "\t22 & \\emph{missing} & Barbados & 13.1939 & -59.5432 & 0 & $\\dots$ \\\\\n",
       "\t23 & \\emph{missing} & Belarus & 53.7098 & 27.9534 & 0 & $\\dots$ \\\\\n",
       "\t24 & \\emph{missing} & Belgium & 50.8333 & 4.46994 & 0 & $\\dots$ \\\\\n",
       "\t25 & \\emph{missing} & Belize & 17.1899 & -88.4976 & 0 & $\\dots$ \\\\\n",
       "\t26 & \\emph{missing} & Benin & 9.3077 & 2.3158 & 0 & $\\dots$ \\\\\n",
       "\t27 & \\emph{missing} & Bhutan & 27.5142 & 90.4336 & 0 & $\\dots$ \\\\\n",
       "\t28 & \\emph{missing} & Bolivia & -16.2902 & -63.5887 & 0 & $\\dots$ \\\\\n",
       "\t29 & \\emph{missing} & Bosnia and Herzegovina & 43.9159 & 17.6791 & 0 & $\\dots$ \\\\\n",
       "\t30 & \\emph{missing} & Botswana & -22.3285 & 24.6849 & 0 & $\\dots$ \\\\\n",
       "\t$\\dots$ & $\\dots$ & $\\dots$ & $\\dots$ & $\\dots$ & $\\dots$ &  \\\\\n",
       "\\end{tabular}\n"
      ],
      "text/plain": [
       "\u001b[1m271×346 DataFrame\u001b[0m\n",
       "\u001b[1m Row \u001b[0m│\u001b[1m province                     \u001b[0m\u001b[1m country             \u001b[0m\u001b[1m Lat      \u001b[0m\u001b[1m Long     \u001b[0m\u001b[1m \u001b[0m ⋯\n",
       "\u001b[1m     \u001b[0m│\u001b[90m String?                      \u001b[0m\u001b[90m String              \u001b[0m\u001b[90m Float64? \u001b[0m\u001b[90m Float64? \u001b[0m\u001b[90m \u001b[0m ⋯\n",
       "─────┼──────────────────────────────────────────────────────────────────────────\n",
       "   1 │\u001b[90m missing                      \u001b[0m Afghanistan           33.9391   67.71     ⋯\n",
       "   2 │\u001b[90m missing                      \u001b[0m Albania               41.1533   20.1683\n",
       "   3 │\u001b[90m missing                      \u001b[0m Algeria               28.0339    1.6596\n",
       "   4 │\u001b[90m missing                      \u001b[0m Andorra               42.5063    1.5218\n",
       "   5 │\u001b[90m missing                      \u001b[0m Angola               -11.2027   17.8739   ⋯\n",
       "   6 │\u001b[90m missing                      \u001b[0m Antigua and Barbuda   17.0608  -61.7964\n",
       "   7 │\u001b[90m missing                      \u001b[0m Argentina            -38.4161  -63.6167\n",
       "   8 │\u001b[90m missing                      \u001b[0m Armenia               40.0691   45.0382\n",
       "   9 │ Australian Capital Territory  Australia            -35.4735  149.012    ⋯\n",
       "  10 │ New South Wales               Australia            -33.8688  151.209\n",
       "  11 │ Northern Territory            Australia            -12.4634  130.846\n",
       "  ⋮  │              ⋮                         ⋮              ⋮         ⋮       ⋱\n",
       " 262 │\u001b[90m missing                      \u001b[0m United Kingdom        55.3781   -3.436\n",
       " 263 │\u001b[90m missing                      \u001b[0m Uruguay              -32.5228  -55.7658   ⋯\n",
       " 264 │\u001b[90m missing                      \u001b[0m Uzbekistan            41.3775   64.5853\n",
       " 265 │\u001b[90m missing                      \u001b[0m Vanuatu              -15.3767  166.959\n",
       " 266 │\u001b[90m missing                      \u001b[0m Venezuela              6.4238  -66.5897\n",
       " 267 │\u001b[90m missing                      \u001b[0m Vietnam               14.0583  108.277    ⋯\n",
       " 268 │\u001b[90m missing                      \u001b[0m West Bank and Gaza    31.9522   35.2332\n",
       " 269 │\u001b[90m missing                      \u001b[0m Yemen                 15.5527   48.5164\n",
       " 270 │\u001b[90m missing                      \u001b[0m Zambia               -13.1339   27.8493\n",
       " 271 │\u001b[90m missing                      \u001b[0m Zimbabwe             -19.0154   29.1549   ⋯\n",
       "\u001b[31m                                                342 columns and 250 rows omitted\u001b[0m"
      ]
     },
     "execution_count": 18,
     "metadata": {},
     "output_type": "execute_result"
    }
   ],
   "source": [
    "data"
   ]
  },
  {
   "cell_type": "code",
   "execution_count": 19,
   "metadata": {},
   "outputs": [
    {
     "name": "stdout",
     "output_type": "stream",
     "text": [
      "search: \u001b[0m\u001b[1mr\u001b[22m\u001b[0m\u001b[1me\u001b[22m\u001b[0m\u001b[1mn\u001b[22m\u001b[0m\u001b[1ma\u001b[22m\u001b[0m\u001b[1mm\u001b[22m\u001b[0m\u001b[1me\u001b[22m \u001b[0m\u001b[1mr\u001b[22m\u001b[0m\u001b[1me\u001b[22m\u001b[0m\u001b[1mn\u001b[22m\u001b[0m\u001b[1ma\u001b[22m\u001b[0m\u001b[1mm\u001b[22m\u001b[0m\u001b[1me\u001b[22m! p\u001b[0m\u001b[1mr\u001b[22mop\u001b[0m\u001b[1me\u001b[22mrty\u001b[0m\u001b[1mn\u001b[22m\u001b[0m\u001b[1ma\u001b[22m\u001b[0m\u001b[1mm\u001b[22m\u001b[0m\u001b[1me\u001b[22ms\n",
      "\n"
     ]
    },
    {
     "data": {
      "text/latex": [
       "\\begin{verbatim}\n",
       "rename(df::AbstractDataFrame, vals::AbstractVector{Symbol};\n",
       "       makeunique::Bool=false)\n",
       "rename(df::AbstractDataFrame, vals::AbstractVector{<:AbstractString};\n",
       "       makeunique::Bool=false)\n",
       "rename(df::AbstractDataFrame, (from => to)::Pair...)\n",
       "rename(df::AbstractDataFrame, d::AbstractDict)\n",
       "rename(df::AbstractDataFrame, d::AbstractVector{<:Pair})\n",
       "rename(f::Function, df::AbstractDataFrame)\n",
       "\\end{verbatim}\n",
       "Create a new data frame that is a copy of \\texttt{df} with changed column names. Each name is changed at most once. Permutation of names is allowed.\n",
       "\n",
       "\\section{Arguments}\n",
       "\\begin{itemize}\n",
       "\\item \\texttt{df} : the \\texttt{AbstractDataFrame}; if it is a \\texttt{SubDataFrame} then renaming is only allowed if it was created using \\texttt{:} as a column selector.\n",
       "\n",
       "\n",
       "\\item \\texttt{d} : an \\texttt{AbstractDict} or an \\texttt{AbstractVector} of \\texttt{Pair}s that maps the original names or column numbers to new names\n",
       "\n",
       "\n",
       "\\item \\texttt{f} : a function which for each column takes the old name as a \\texttt{String} and returns the new name that gets converted to a \\texttt{Symbol}\n",
       "\n",
       "\n",
       "\\item \\texttt{vals} : new column names as a vector of \\texttt{Symbol}s or \\texttt{AbstractString}s of the same length as the number of columns in \\texttt{df}\n",
       "\n",
       "\n",
       "\\item \\texttt{makeunique} : if \\texttt{false} (the default), an error will be raised if duplicate names are found; if \\texttt{true}, duplicate names will be suffixed with \\texttt{\\_i} (\\texttt{i} starting at 1 for the first duplicate).\n",
       "\n",
       "\\end{itemize}\n",
       "If pairs are passed to \\texttt{rename} (as positional arguments or in a dictionary or a vector) then:\n",
       "\n",
       "\\begin{itemize}\n",
       "\\item \\texttt{from} value can be a \\texttt{Symbol}, an \\texttt{AbstractString} or an \\texttt{Integer};\n",
       "\n",
       "\n",
       "\\item \\texttt{to} value can be a \\texttt{Symbol} or an \\texttt{AbstractString}.\n",
       "\n",
       "\\end{itemize}\n",
       "Mixing symbols and strings in \\texttt{to} and \\texttt{from} is not allowed.\n",
       "\n",
       "See also: \\href{@ref}{\\texttt{rename!}}\n",
       "\n",
       "\\section{Examples}\n",
       "\\begin{verbatim}\n",
       "julia> df = DataFrame(i = 1, x = 2, y = 3)\n",
       "1×3 DataFrame\n",
       " Row │ i      x      y\n",
       "     │ Int64  Int64  Int64\n",
       "─────┼─────────────────────\n",
       "   1 │     1      2      3\n",
       "\n",
       "julia> rename(df, :i => :A, :x => :X)\n",
       "1×3 DataFrame\n",
       " Row │ A      X      y\n",
       "     │ Int64  Int64  Int64\n",
       "─────┼─────────────────────\n",
       "   1 │     1      2      3\n",
       "\n",
       "julia> rename(df, :x => :y, :y => :x)\n",
       "1×3 DataFrame\n",
       " Row │ i      y      x\n",
       "     │ Int64  Int64  Int64\n",
       "─────┼─────────────────────\n",
       "   1 │     1      2      3\n",
       "\n",
       "julia> rename(df, [1 => :A, 2 => :X])\n",
       "1×3 DataFrame\n",
       " Row │ A      X      y\n",
       "     │ Int64  Int64  Int64\n",
       "─────┼─────────────────────\n",
       "   1 │     1      2      3\n",
       "\n",
       "julia> rename(df, Dict(\"i\" => \"A\", \"x\" => \"X\"))\n",
       "1×3 DataFrame\n",
       " Row │ A      X      y\n",
       "     │ Int64  Int64  Int64\n",
       "─────┼─────────────────────\n",
       "   1 │     1      2      3\n",
       "\n",
       "julia> rename(uppercase, df)\n",
       "1×3 DataFrame\n",
       " Row │ I      X      Y\n",
       "     │ Int64  Int64  Int64\n",
       "─────┼─────────────────────\n",
       "   1 │     1      2      3\n",
       "\\end{verbatim}\n"
      ],
      "text/markdown": [
       "```\n",
       "rename(df::AbstractDataFrame, vals::AbstractVector{Symbol};\n",
       "       makeunique::Bool=false)\n",
       "rename(df::AbstractDataFrame, vals::AbstractVector{<:AbstractString};\n",
       "       makeunique::Bool=false)\n",
       "rename(df::AbstractDataFrame, (from => to)::Pair...)\n",
       "rename(df::AbstractDataFrame, d::AbstractDict)\n",
       "rename(df::AbstractDataFrame, d::AbstractVector{<:Pair})\n",
       "rename(f::Function, df::AbstractDataFrame)\n",
       "```\n",
       "\n",
       "Create a new data frame that is a copy of `df` with changed column names. Each name is changed at most once. Permutation of names is allowed.\n",
       "\n",
       "# Arguments\n",
       "\n",
       "  * `df` : the `AbstractDataFrame`; if it is a `SubDataFrame` then renaming is only allowed if it was created using `:` as a column selector.\n",
       "  * `d` : an `AbstractDict` or an `AbstractVector` of `Pair`s that maps the original names or column numbers to new names\n",
       "  * `f` : a function which for each column takes the old name as a `String` and returns the new name that gets converted to a `Symbol`\n",
       "  * `vals` : new column names as a vector of `Symbol`s or `AbstractString`s of the same length as the number of columns in `df`\n",
       "  * `makeunique` : if `false` (the default), an error will be raised if duplicate names are found; if `true`, duplicate names will be suffixed with `_i` (`i` starting at 1 for the first duplicate).\n",
       "\n",
       "If pairs are passed to `rename` (as positional arguments or in a dictionary or a vector) then:\n",
       "\n",
       "  * `from` value can be a `Symbol`, an `AbstractString` or an `Integer`;\n",
       "  * `to` value can be a `Symbol` or an `AbstractString`.\n",
       "\n",
       "Mixing symbols and strings in `to` and `from` is not allowed.\n",
       "\n",
       "See also: [`rename!`](@ref)\n",
       "\n",
       "# Examples\n",
       "\n",
       "```julia\n",
       "julia> df = DataFrame(i = 1, x = 2, y = 3)\n",
       "1×3 DataFrame\n",
       " Row │ i      x      y\n",
       "     │ Int64  Int64  Int64\n",
       "─────┼─────────────────────\n",
       "   1 │     1      2      3\n",
       "\n",
       "julia> rename(df, :i => :A, :x => :X)\n",
       "1×3 DataFrame\n",
       " Row │ A      X      y\n",
       "     │ Int64  Int64  Int64\n",
       "─────┼─────────────────────\n",
       "   1 │     1      2      3\n",
       "\n",
       "julia> rename(df, :x => :y, :y => :x)\n",
       "1×3 DataFrame\n",
       " Row │ i      y      x\n",
       "     │ Int64  Int64  Int64\n",
       "─────┼─────────────────────\n",
       "   1 │     1      2      3\n",
       "\n",
       "julia> rename(df, [1 => :A, 2 => :X])\n",
       "1×3 DataFrame\n",
       " Row │ A      X      y\n",
       "     │ Int64  Int64  Int64\n",
       "─────┼─────────────────────\n",
       "   1 │     1      2      3\n",
       "\n",
       "julia> rename(df, Dict(\"i\" => \"A\", \"x\" => \"X\"))\n",
       "1×3 DataFrame\n",
       " Row │ A      X      y\n",
       "     │ Int64  Int64  Int64\n",
       "─────┼─────────────────────\n",
       "   1 │     1      2      3\n",
       "\n",
       "julia> rename(uppercase, df)\n",
       "1×3 DataFrame\n",
       " Row │ I      X      Y\n",
       "     │ Int64  Int64  Int64\n",
       "─────┼─────────────────────\n",
       "   1 │     1      2      3\n",
       "```\n"
      ],
      "text/plain": [
       "\u001b[36m  rename(df::AbstractDataFrame, vals::AbstractVector{Symbol};\u001b[39m\n",
       "\u001b[36m         makeunique::Bool=false)\u001b[39m\n",
       "\u001b[36m  rename(df::AbstractDataFrame, vals::AbstractVector{<:AbstractString};\u001b[39m\n",
       "\u001b[36m         makeunique::Bool=false)\u001b[39m\n",
       "\u001b[36m  rename(df::AbstractDataFrame, (from => to)::Pair...)\u001b[39m\n",
       "\u001b[36m  rename(df::AbstractDataFrame, d::AbstractDict)\u001b[39m\n",
       "\u001b[36m  rename(df::AbstractDataFrame, d::AbstractVector{<:Pair})\u001b[39m\n",
       "\u001b[36m  rename(f::Function, df::AbstractDataFrame)\u001b[39m\n",
       "\n",
       "  Create a new data frame that is a copy of \u001b[36mdf\u001b[39m with changed column names. Each\n",
       "  name is changed at most once. Permutation of names is allowed.\n",
       "\n",
       "\u001b[1m  Arguments\u001b[22m\n",
       "\u001b[1m  ≡≡≡≡≡≡≡≡≡≡≡\u001b[22m\n",
       "\n",
       "    •    \u001b[36mdf\u001b[39m : the \u001b[36mAbstractDataFrame\u001b[39m; if it is a \u001b[36mSubDataFrame\u001b[39m then renaming\n",
       "        is only allowed if it was created using \u001b[36m:\u001b[39m as a column selector.\n",
       "\n",
       "    •    \u001b[36md\u001b[39m : an \u001b[36mAbstractDict\u001b[39m or an \u001b[36mAbstractVector\u001b[39m of \u001b[36mPair\u001b[39ms that maps the\n",
       "        original names or column numbers to new names\n",
       "\n",
       "    •    \u001b[36mf\u001b[39m : a function which for each column takes the old name as a\n",
       "        \u001b[36mString\u001b[39m and returns the new name that gets converted to a \u001b[36mSymbol\u001b[39m\n",
       "\n",
       "    •    \u001b[36mvals\u001b[39m : new column names as a vector of \u001b[36mSymbol\u001b[39ms or \u001b[36mAbstractString\u001b[39ms\n",
       "        of the same length as the number of columns in \u001b[36mdf\u001b[39m\n",
       "\n",
       "    •    \u001b[36mmakeunique\u001b[39m : if \u001b[36mfalse\u001b[39m (the default), an error will be raised if\n",
       "        duplicate names are found; if \u001b[36mtrue\u001b[39m, duplicate names will be\n",
       "        suffixed with \u001b[36m_i\u001b[39m (\u001b[36mi\u001b[39m starting at 1 for the first duplicate).\n",
       "\n",
       "  If pairs are passed to \u001b[36mrename\u001b[39m (as positional arguments or in a dictionary or\n",
       "  a vector) then:\n",
       "\n",
       "    •    \u001b[36mfrom\u001b[39m value can be a \u001b[36mSymbol\u001b[39m, an \u001b[36mAbstractString\u001b[39m or an \u001b[36mInteger\u001b[39m;\n",
       "\n",
       "    •    \u001b[36mto\u001b[39m value can be a \u001b[36mSymbol\u001b[39m or an \u001b[36mAbstractString\u001b[39m.\n",
       "\n",
       "  Mixing symbols and strings in \u001b[36mto\u001b[39m and \u001b[36mfrom\u001b[39m is not allowed.\n",
       "\n",
       "  See also: \u001b[36mrename!\u001b[39m\n",
       "\n",
       "\u001b[1m  Examples\u001b[22m\n",
       "\u001b[1m  ≡≡≡≡≡≡≡≡≡≡\u001b[22m\n",
       "\n",
       "\u001b[36m  julia> df = DataFrame(i = 1, x = 2, y = 3)\u001b[39m\n",
       "\u001b[36m  1×3 DataFrame\u001b[39m\n",
       "\u001b[36m   Row │ i      x      y\u001b[39m\n",
       "\u001b[36m       │ Int64  Int64  Int64\u001b[39m\n",
       "\u001b[36m  ─────┼─────────────────────\u001b[39m\n",
       "\u001b[36m     1 │     1      2      3\u001b[39m\n",
       "\u001b[36m  \u001b[39m\n",
       "\u001b[36m  julia> rename(df, :i => :A, :x => :X)\u001b[39m\n",
       "\u001b[36m  1×3 DataFrame\u001b[39m\n",
       "\u001b[36m   Row │ A      X      y\u001b[39m\n",
       "\u001b[36m       │ Int64  Int64  Int64\u001b[39m\n",
       "\u001b[36m  ─────┼─────────────────────\u001b[39m\n",
       "\u001b[36m     1 │     1      2      3\u001b[39m\n",
       "\u001b[36m  \u001b[39m\n",
       "\u001b[36m  julia> rename(df, :x => :y, :y => :x)\u001b[39m\n",
       "\u001b[36m  1×3 DataFrame\u001b[39m\n",
       "\u001b[36m   Row │ i      y      x\u001b[39m\n",
       "\u001b[36m       │ Int64  Int64  Int64\u001b[39m\n",
       "\u001b[36m  ─────┼─────────────────────\u001b[39m\n",
       "\u001b[36m     1 │     1      2      3\u001b[39m\n",
       "\u001b[36m  \u001b[39m\n",
       "\u001b[36m  julia> rename(df, [1 => :A, 2 => :X])\u001b[39m\n",
       "\u001b[36m  1×3 DataFrame\u001b[39m\n",
       "\u001b[36m   Row │ A      X      y\u001b[39m\n",
       "\u001b[36m       │ Int64  Int64  Int64\u001b[39m\n",
       "\u001b[36m  ─────┼─────────────────────\u001b[39m\n",
       "\u001b[36m     1 │     1      2      3\u001b[39m\n",
       "\u001b[36m  \u001b[39m\n",
       "\u001b[36m  julia> rename(df, Dict(\"i\" => \"A\", \"x\" => \"X\"))\u001b[39m\n",
       "\u001b[36m  1×3 DataFrame\u001b[39m\n",
       "\u001b[36m   Row │ A      X      y\u001b[39m\n",
       "\u001b[36m       │ Int64  Int64  Int64\u001b[39m\n",
       "\u001b[36m  ─────┼─────────────────────\u001b[39m\n",
       "\u001b[36m     1 │     1      2      3\u001b[39m\n",
       "\u001b[36m  \u001b[39m\n",
       "\u001b[36m  julia> rename(uppercase, df)\u001b[39m\n",
       "\u001b[36m  1×3 DataFrame\u001b[39m\n",
       "\u001b[36m   Row │ I      X      Y\u001b[39m\n",
       "\u001b[36m       │ Int64  Int64  Int64\u001b[39m\n",
       "\u001b[36m  ─────┼─────────────────────\u001b[39m\n",
       "\u001b[36m     1 │     1      2      3\u001b[39m"
      ]
     },
     "execution_count": 19,
     "metadata": {},
     "output_type": "execute_result"
    }
   ],
   "source": [
    "?rename"
   ]
  },
  {
   "cell_type": "markdown",
   "metadata": {},
   "source": [
    "## Interact.jl: Simple interactive visualizations"
   ]
  },
  {
   "cell_type": "code",
   "execution_count": 22,
   "metadata": {},
   "outputs": [
    {
     "name": "stderr",
     "output_type": "stream",
     "text": [
      "\u001b[32m\u001b[1m  Resolving\u001b[22m\u001b[39m package versions...\n",
      "\u001b[32m\u001b[1m  Installed\u001b[22m\u001b[39m FixedPointNumbers ───── v0.8.4\n",
      "\u001b[32m\u001b[1m  Installed\u001b[22m\u001b[39m CSSUtil ─────────────── v0.1.1\n",
      "\u001b[32m\u001b[1m  Installed\u001b[22m\u001b[39m FunctionalCollections ─ v0.5.0\n",
      "\u001b[32m\u001b[1m  Installed\u001b[22m\u001b[39m Interact ────────────── v0.10.3\n",
      "\u001b[32m\u001b[1m  Installed\u001b[22m\u001b[39m InteractBase ────────── v0.10.5\n",
      "\u001b[32m\u001b[1m  Installed\u001b[22m\u001b[39m WebSockets ──────────── v1.5.7\n",
      "\u001b[32m\u001b[1m  Installed\u001b[22m\u001b[39m HTTP ────────────────── v0.9.2\n",
      "\u001b[32m\u001b[1m  Installed\u001b[22m\u001b[39m Measures ────────────── v0.3.1\n",
      "\u001b[32m\u001b[1m  Installed\u001b[22m\u001b[39m Widgets ─────────────── v0.6.2\n",
      "\u001b[32m\u001b[1m  Installed\u001b[22m\u001b[39m JSExpr ──────────────── v0.5.2\n",
      "\u001b[32m\u001b[1m  Installed\u001b[22m\u001b[39m ColorTypes ──────────── v0.10.9\n",
      "\u001b[32m\u001b[1m  Installed\u001b[22m\u001b[39m IniFile ─────────────── v0.5.0\n",
      "\u001b[32m\u001b[1m  Installed\u001b[22m\u001b[39m Observables ─────────── v0.3.2\n",
      "\u001b[32m\u001b[1m  Installed\u001b[22m\u001b[39m URIs ────────────────── v1.1.0\n",
      "\u001b[32m\u001b[1m  Installed\u001b[22m\u001b[39m WebIO ───────────────── v0.8.15\n",
      "\u001b[32m\u001b[1m  Installed\u001b[22m\u001b[39m AssetRegistry ───────── v0.1.0\n",
      "\u001b[32m\u001b[1m  Installed\u001b[22m\u001b[39m Knockout ────────────── v0.2.4\n",
      "\u001b[32m\u001b[1m  Installed\u001b[22m\u001b[39m Requires ────────────── v1.1.2\n",
      "\u001b[32m\u001b[1m  Installed\u001b[22m\u001b[39m MacroTools ──────────── v0.5.6\n",
      "\u001b[32m\u001b[1m  Installed\u001b[22m\u001b[39m Pidfile ─────────────── v1.2.0\n",
      "\u001b[32m\u001b[1m  Installed\u001b[22m\u001b[39m Colors ──────────────── v0.12.6\n",
      "\u001b[32m\u001b[1m   Updating\u001b[22m\u001b[39m `C:\\Users\\kcsgo\\.julia\\environments\\v1.4\\Project.toml`\n",
      " \u001b[90m [c601a237]\u001b[39m\u001b[92m + Interact v0.10.3\u001b[39m\n",
      "\u001b[32m\u001b[1m   Updating\u001b[22m\u001b[39m `C:\\Users\\kcsgo\\.julia\\environments\\v1.4\\Manifest.toml`\n",
      " \u001b[90m [bf4720bc]\u001b[39m\u001b[92m + AssetRegistry v0.1.0\u001b[39m\n",
      " \u001b[90m [70588ee8]\u001b[39m\u001b[92m + CSSUtil v0.1.1\u001b[39m\n",
      " \u001b[90m [3da002f7]\u001b[39m\u001b[92m + ColorTypes v0.10.9\u001b[39m\n",
      " \u001b[90m [5ae59095]\u001b[39m\u001b[92m + Colors v0.12.6\u001b[39m\n",
      " \u001b[90m [53c48c17]\u001b[39m\u001b[92m + FixedPointNumbers v0.8.4\u001b[39m\n",
      " \u001b[90m [de31a74c]\u001b[39m\u001b[92m + FunctionalCollections v0.5.0\u001b[39m\n",
      " \u001b[90m [cd3eb016]\u001b[39m\u001b[92m + HTTP v0.9.2\u001b[39m\n",
      " \u001b[90m [83e8ac13]\u001b[39m\u001b[92m + IniFile v0.5.0\u001b[39m\n",
      " \u001b[90m [c601a237]\u001b[39m\u001b[92m + Interact v0.10.3\u001b[39m\n",
      " \u001b[90m [d3863d7c]\u001b[39m\u001b[92m + InteractBase v0.10.5\u001b[39m\n",
      " \u001b[90m [97c1335a]\u001b[39m\u001b[92m + JSExpr v0.5.2\u001b[39m\n",
      " \u001b[90m [bcebb21b]\u001b[39m\u001b[92m + Knockout v0.2.4\u001b[39m\n",
      " \u001b[90m [1914dd2f]\u001b[39m\u001b[92m + MacroTools v0.5.6\u001b[39m\n",
      " \u001b[90m [442fdcdd]\u001b[39m\u001b[92m + Measures v0.3.1\u001b[39m\n",
      " \u001b[90m [510215fc]\u001b[39m\u001b[92m + Observables v0.3.2\u001b[39m\n",
      " \u001b[90m [fa939f87]\u001b[39m\u001b[92m + Pidfile v1.2.0\u001b[39m\n",
      " \u001b[90m [ae029012]\u001b[39m\u001b[92m + Requires v1.1.2\u001b[39m\n",
      " \u001b[90m [5c2747f8]\u001b[39m\u001b[92m + URIs v1.1.0\u001b[39m\n",
      " \u001b[90m [0f1e0344]\u001b[39m\u001b[92m + WebIO v0.8.15\u001b[39m\n",
      " \u001b[90m [104b5d7c]\u001b[39m\u001b[92m + WebSockets v1.5.7\u001b[39m\n",
      " \u001b[90m [cc8bc4a8]\u001b[39m\u001b[92m + Widgets v0.6.2\u001b[39m\n",
      "\u001b[32m\u001b[1m   Building\u001b[22m\u001b[39m WebIO ───────→ `C:\\Users\\kcsgo\\.julia\\packages\\WebIO\\Fy9h1\\deps\\build.log`\n",
      "\u001b[32m\u001b[1m   Building\u001b[22m\u001b[39m Knockout ────→ `C:\\Users\\kcsgo\\.julia\\packages\\Knockout\\IP1uR\\deps\\build.log`\n",
      "\u001b[32m\u001b[1m   Building\u001b[22m\u001b[39m InteractBase → `C:\\Users\\kcsgo\\.julia\\packages\\InteractBase\\sOe2Z\\deps\\build.log`\n",
      "\u001b[32m\u001b[1m   Building\u001b[22m\u001b[39m Interact ────→ `C:\\Users\\kcsgo\\.julia\\packages\\Interact\\SbgIk\\deps\\build.log`\n"
     ]
    }
   ],
   "source": [
    "Pkg.add(\"Interact\")"
   ]
  },
  {
   "cell_type": "code",
   "execution_count": 23,
   "metadata": {},
   "outputs": [
    {
     "name": "stderr",
     "output_type": "stream",
     "text": [
      "┌ Info: Precompiling Interact [c601a237-2ae4-5e1e-952c-7a85b0c7eef1]\n",
      "└ @ Base loading.jl:1260\n"
     ]
    },
    {
     "data": {
      "text/html": [
       "<script>\n",
       "// Immediately-invoked-function-expression to avoid global variables.\n",
       "(function() {\n",
       "    var warning_div = document.getElementById(\"webio-warning-10903685278941048146\");\n",
       "    var hide = function () {\n",
       "        var script = document.getElementById(\"webio-setup-13861964950758955261\");\n",
       "        var parent = script && script.parentElement;\n",
       "        var grandparent = parent && parent.parentElement;\n",
       "        if (grandparent) {\n",
       "            grandparent.style.display = \"none\";\n",
       "        }\n",
       "        warning_div.style.display = \"none\";\n",
       "    };\n",
       "    if (typeof Jupyter !== \"undefined\") {\n",
       "        console.log(\"WebIO detected Jupyter notebook environment.\");\n",
       "        // Jupyter notebook.\n",
       "        var extensions = (\n",
       "            Jupyter\n",
       "            && Jupyter.notebook.config.data\n",
       "            && Jupyter.notebook.config.data.load_extensions\n",
       "        );\n",
       "        if (extensions && extensions[\"webio-jupyter-notebook\"]) {\n",
       "            // Extension already loaded.\n",
       "            console.log(\"Jupyter WebIO nbextension detected; not loading ad-hoc.\");\n",
       "            hide();\n",
       "            return;\n",
       "        }\n",
       "    } else if (window.location.pathname.includes(\"/lab\")) {\n",
       "        // Guessing JupyterLa\n",
       "        console.log(\"Jupyter Lab detected; make sure the @webio/jupyter-lab-provider labextension is installed.\");\n",
       "        hide();\n",
       "        return;\n",
       "    }\n",
       "})();\n",
       "\n",
       "</script>\n",
       "<p\n",
       "    id=\"webio-warning-10903685278941048146\"\n",
       "    class=\"output_text output_stderr\"\n",
       "    style=\"padding: 1em; font-weight: bold;\"\n",
       ">\n",
       "    Unable to load WebIO. Please make sure WebIO works for your Jupyter client.\n",
       "    For troubleshooting, please see <a href=\"https://juliagizmos.github.io/WebIO.jl/latest/providers/ijulia/\">\n",
       "    the WebIO/IJulia documentation</a>.\n",
       "    <!-- TODO: link to installation docs. -->\n",
       "</p>\n"
      ],
      "text/plain": [
       "HTML{String}(\"<script>\\n// Immediately-invoked-function-expression to avoid global variables.\\n(function() {\\n    var warning_div = document.getElementById(\\\"webio-warning-10903685278941048146\\\");\\n    var hide = function () {\\n        var script = document.getElementById(\\\"webio-setup-13861964950758955261\\\");\\n        var parent = script && script.parentElement;\\n        var grandparent = parent && parent.parentElement;\\n        if (grandparent) {\\n            grandparent.style.display = \\\"none\\\";\\n        }\\n        warning_div.style.display = \\\"none\\\";\\n    };\\n    if (typeof Jupyter !== \\\"undefined\\\") {\\n        console.log(\\\"WebIO detected Jupyter notebook environment.\\\");\\n        // Jupyter notebook.\\n        var extensions = (\\n            Jupyter\\n            && Jupyter.notebook.config.data\\n            && Jupyter.notebook.config.data.load_extensions\\n        );\\n        if (extensions && extensions[\\\"webio-jupyter-notebook\\\"]) {\\n            // Extension already loaded.\\n            console.log(\\\"Jupyter WebIO nbextension detected; not loading ad-hoc.\\\");\\n            hide();\\n            return;\\n        }\\n    } else if (window.location.pathname.includes(\\\"/lab\\\")) {\\n        // Guessing JupyterLa\\n        console.log(\\\"Jupyter Lab detected; make sure the @webio/jupyter-lab-provider labextension is installed.\\\");\\n        hide();\\n        return;\\n    }\\n})();\\n\\n</script>\\n<p\\n    id=\\\"webio-warning-10903685278941048146\\\"\\n    class=\\\"output_text output_stderr\\\"\\n    style=\\\"padding: 1em; font-weight: bold;\\\"\\n>\\n    Unable to load WebIO. Please make sure WebIO works for your Jupyter client.\\n    For troubleshooting, please see <a href=\\\"https://juliagizmos.github.io/WebIO.jl/latest/providers/ijulia/\\\">\\n    the WebIO/IJulia documentation</a>.\\n    <!-- TODO: link to installation docs. -->\\n</p>\\n\")"
      ]
     },
     "metadata": {},
     "output_type": "display_data"
    }
   ],
   "source": [
    "using Interact"
   ]
  },
  {
   "cell_type": "code",
   "execution_count": 24,
   "metadata": {},
   "outputs": [
    {
     "name": "stdout",
     "output_type": "stream",
     "text": [
      "i = 1\n",
      "i = 2\n",
      "i = 3\n",
      "i = 4\n",
      "i = 5\n",
      "i = 6\n",
      "i = 7\n",
      "i = 8\n",
      "i = 9\n",
      "i = 10\n"
     ]
    }
   ],
   "source": [
    "for i in 1:10\n",
    "    @show i\n",
    "end"
   ]
  },
  {
   "cell_type": "code",
   "execution_count": 25,
   "metadata": {},
   "outputs": [
    {
     "data": {
      "text/plain": [
       "UnitRange{Int64}"
      ]
     },
     "execution_count": 25,
     "metadata": {},
     "output_type": "execute_result"
    }
   ],
   "source": [
    "typeof(1:10)"
   ]
  },
  {
   "cell_type": "code",
   "execution_count": 26,
   "metadata": {},
   "outputs": [
    {
     "data": {
      "text/plain": [
       "10-element Array{Int64,1}:\n",
       "  1\n",
       "  2\n",
       "  3\n",
       "  4\n",
       "  5\n",
       "  6\n",
       "  7\n",
       "  8\n",
       "  9\n",
       " 10"
      ]
     },
     "execution_count": 26,
     "metadata": {},
     "output_type": "execute_result"
    }
   ],
   "source": [
    "collect(1:10)"
   ]
  },
  {
   "cell_type": "code",
   "execution_count": 27,
   "metadata": {},
   "outputs": [
    {
     "name": "stdout",
     "output_type": "stream",
     "text": [
      "i = 1\n",
      "i = 2\n",
      "i = 3\n",
      "i = 4\n",
      "i = 5\n",
      "i = 6\n",
      "i = 7\n",
      "i = 8\n",
      "i = 9\n",
      "i = 10\n"
     ]
    }
   ],
   "source": [
    "for i in 1:10\n",
    "    println(\"i = \", i)\n",
    "end"
   ]
  },
  {
   "cell_type": "code",
   "execution_count": null,
   "metadata": {},
   "outputs": [],
   "source": []
  }
 ],
 "metadata": {
  "kernelspec": {
   "display_name": "Julia 1.4.1",
   "language": "julia",
   "name": "julia-1.4"
  },
  "language_info": {
   "file_extension": ".jl",
   "mimetype": "application/julia",
   "name": "julia",
   "version": "1.4.1"
  }
 },
 "nbformat": 4,
 "nbformat_minor": 4
}
